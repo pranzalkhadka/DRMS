{
  "nbformat": 4,
  "nbformat_minor": 0,
  "metadata": {
    "colab": {
      "provenance": []
    },
    "kernelspec": {
      "name": "python3",
      "display_name": "Python 3"
    },
    "language_info": {
      "name": "python"
    }
  },
  "cells": [
    {
      "cell_type": "markdown",
      "source": [
        "# Downloading Data from drive"
      ],
      "metadata": {
        "id": "QxZ4bwzVeFvN"
      }
    },
    {
      "cell_type": "code",
      "execution_count": 1,
      "metadata": {
        "colab": {
          "base_uri": "https://localhost:8080/"
        },
        "id": "KGfeR3x4hDE_",
        "outputId": "ff492f2c-21b0-4679-84d9-02838b5c087d"
      },
      "outputs": [
        {
          "output_type": "stream",
          "name": "stdout",
          "text": [
            "Downloading...\n",
            "From: https://drive.google.com/uc?id=1BfazLmXpnCOEL3a9rXuDLS04CQrGBZSb\n",
            "To: /content/new_classification_data.csv\n",
            "\r  0% 0.00/6.03M [00:00<?, ?B/s]\r100% 6.03M/6.03M [00:00<00:00, 113MB/s]\n"
          ]
        }
      ],
      "source": [
        "# Custom made Data\n",
        "!gdown https://drive.google.com/uc?id=1BfazLmXpnCOEL3a9rXuDLS04CQrGBZSb"
      ]
    },
    {
      "cell_type": "code",
      "source": [
        "# Stop words\n",
        "# credit -> Kushal Paudyal (https://github.com/sanjaalcorps/NepaliStopWords)\n",
        "!gdown https://drive.google.com/uc?id=1rut_6tJVxvhW2sos425LGNbOb0RCNXmc"
      ],
      "metadata": {
        "colab": {
          "base_uri": "https://localhost:8080/"
        },
        "id": "myMnO3ktoSLT",
        "outputId": "a3d1d748-9339-477a-89bb-d6d60f9194ea"
      },
      "execution_count": 2,
      "outputs": [
        {
          "output_type": "stream",
          "name": "stdout",
          "text": [
            "Downloading...\n",
            "From: https://drive.google.com/uc?id=1rut_6tJVxvhW2sos425LGNbOb0RCNXmc\n",
            "To: /content/NepaliStopWords.zip\n",
            "\r  0% 0.00/2.21k [00:00<?, ?B/s]\r100% 2.21k/2.21k [00:00<00:00, 5.78MB/s]\n"
          ]
        }
      ]
    },
    {
      "cell_type": "code",
      "source": [
        "!unzip /content/NepaliStopWords.zip"
      ],
      "metadata": {
        "colab": {
          "base_uri": "https://localhost:8080/"
        },
        "id": "eMQVd4Luq9tJ",
        "outputId": "d11f5d6f-3f10-455b-8657-a64b1f73fc6d"
      },
      "execution_count": 3,
      "outputs": [
        {
          "output_type": "stream",
          "name": "stdout",
          "text": [
            "Archive:  /content/NepaliStopWords.zip\n",
            "   creating: NepaliStopWords/\n",
            "  inflating: NepaliStopWords/NepaliStopWords.txt  \n"
          ]
        }
      ]
    },
    {
      "cell_type": "code",
      "source": [
        "# library for nepali text pre-processing\n",
        "# credit -> prabash jha (https://github.com/prabhashj07/nepalikit)\n",
        "!pip install nepalikit"
      ],
      "metadata": {
        "colab": {
          "base_uri": "https://localhost:8080/"
        },
        "id": "g9fpozbhlM2-",
        "outputId": "33247e72-e88b-4f3e-9237-8f2fcfb397a3"
      },
      "execution_count": 4,
      "outputs": [
        {
          "output_type": "stream",
          "name": "stdout",
          "text": [
            "Collecting nepalikit\n",
            "  Downloading nepalikit-1.0.2-py3-none-any.whl.metadata (3.5 kB)\n",
            "Requirement already satisfied: torch>=2.3.1 in /usr/local/lib/python3.10/dist-packages (from nepalikit) (2.4.1+cu121)\n",
            "Requirement already satisfied: sentencepiece==0.2.0 in /usr/local/lib/python3.10/dist-packages (from nepalikit) (0.2.0)\n",
            "Requirement already satisfied: regex in /usr/local/lib/python3.10/dist-packages (from nepalikit) (2024.9.11)\n",
            "Requirement already satisfied: filelock in /usr/local/lib/python3.10/dist-packages (from torch>=2.3.1->nepalikit) (3.16.1)\n",
            "Requirement already satisfied: typing-extensions>=4.8.0 in /usr/local/lib/python3.10/dist-packages (from torch>=2.3.1->nepalikit) (4.12.2)\n",
            "Requirement already satisfied: sympy in /usr/local/lib/python3.10/dist-packages (from torch>=2.3.1->nepalikit) (1.13.3)\n",
            "Requirement already satisfied: networkx in /usr/local/lib/python3.10/dist-packages (from torch>=2.3.1->nepalikit) (3.3)\n",
            "Requirement already satisfied: jinja2 in /usr/local/lib/python3.10/dist-packages (from torch>=2.3.1->nepalikit) (3.1.4)\n",
            "Requirement already satisfied: fsspec in /usr/local/lib/python3.10/dist-packages (from torch>=2.3.1->nepalikit) (2024.6.1)\n",
            "Requirement already satisfied: MarkupSafe>=2.0 in /usr/local/lib/python3.10/dist-packages (from jinja2->torch>=2.3.1->nepalikit) (2.1.5)\n",
            "Requirement already satisfied: mpmath<1.4,>=1.1.0 in /usr/local/lib/python3.10/dist-packages (from sympy->torch>=2.3.1->nepalikit) (1.3.0)\n",
            "Downloading nepalikit-1.0.2-py3-none-any.whl (232 kB)\n",
            "\u001b[2K   \u001b[90m━━━━━━━━━━━━━━━━━━━━━━━━━━━━━━━━━━━━━━━━\u001b[0m \u001b[32m232.6/232.6 kB\u001b[0m \u001b[31m1.9 MB/s\u001b[0m eta \u001b[36m0:00:00\u001b[0m\n",
            "\u001b[?25hInstalling collected packages: nepalikit\n",
            "Successfully installed nepalikit-1.0.2\n"
          ]
        }
      ]
    },
    {
      "cell_type": "markdown",
      "source": [
        "# Importing necessary libraries"
      ],
      "metadata": {
        "id": "YqDGyUW0eTcl"
      }
    },
    {
      "cell_type": "code",
      "source": [
        "import pandas as pd\n",
        "import sys\n",
        "import re\n",
        "import sklearn\n",
        "from sklearn.model_selection import train_test_split\n",
        "import torch.optim as optim\n",
        "from sklearn.metrics import accuracy_score\n",
        "import matplotlib.pyplot as plt\n",
        "import random\n",
        "from sklearn.preprocessing import LabelEncoder\n",
        "from sklearn.model_selection import train_test_split\n",
        "from nepalikit.tokenization import Tokenizer\n",
        "import torch\n",
        "import torch.nn as nn\n",
        "from torch.utils.data import Dataset, DataLoader\n",
        "from nepalikit.preprocessing import TextProcessor\n",
        "from nepalikit.manage_stopwords import load_stopwords, remove_stopwords_from_text"
      ],
      "metadata": {
        "id": "XXL_XBmsh6S0"
      },
      "execution_count": 5,
      "outputs": []
    },
    {
      "cell_type": "code",
      "source": [
        "print('Python version:',sys.version)\n",
        "print('Pandas version:',pd.__version__)\n",
        "print('Pytorch version:', torch.__version__)\n",
        "print('Sklearn version:',sklearn.__version__)"
      ],
      "metadata": {
        "colab": {
          "base_uri": "https://localhost:8080/"
        },
        "id": "J0K88NqRpDmJ",
        "outputId": "638a51ca-e978-4f69-f2a1-7d4f76ee8cf2"
      },
      "execution_count": 6,
      "outputs": [
        {
          "output_type": "stream",
          "name": "stdout",
          "text": [
            "Python version: 3.10.12 (main, Sep 11 2024, 15:47:36) [GCC 11.4.0]\n",
            "Pandas version: 2.1.4\n",
            "Pytorch version: 2.4.1+cu121\n",
            "Sklearn version: 1.5.2\n"
          ]
        }
      ]
    },
    {
      "cell_type": "markdown",
      "source": [
        "# Data Pre processing"
      ],
      "metadata": {
        "id": "G7wL1TTdePjS"
      }
    },
    {
      "cell_type": "code",
      "source": [
        "processor = TextProcessor()\n",
        "\n",
        "stopwords_path = '/content/NepaliStopWords'\n",
        "stopwords = load_stopwords(stopwords_path)\n",
        "\n",
        "def preprocess_text(text):\n",
        "\n",
        "    # Removing html tags\n",
        "    text = processor.remove_html_tags(text)\n",
        "    # Removing special characters\n",
        "    text = processor.remove_special_characters(text)\n",
        "    # Replacing '\\n' with emty space\n",
        "    text = re.sub('\\n', ' ', text)\n",
        "    # Removing digits\n",
        "    text = re.sub(r'[\\d०१२३४५६७८९]', '', text)\n",
        "    # Remove English texts\n",
        "    text = re.sub(r'\\b[a-zA-Z]+\\b', '', text)\n",
        "\n",
        "    # Remove stopwords\n",
        "    words = text.split()\n",
        "    filtered_words = [word for word in words if word not in stopwords]\n",
        "    # Removing short words (less than 3 characters)\n",
        "    filtered_words = [word for word in filtered_words if len(word) > 2]\n",
        "    return ' '.join(filtered_words)\n",
        "\n",
        "initial_dataset = pd.read_csv(\"/content/new_classification_data.csv\")\n",
        "\n",
        "# Applying preprocessing function\n",
        "initial_dataset['data'] = initial_dataset['data'].apply(preprocess_text)\n",
        "\n",
        "# Removing duplicates and NAN values\n",
        "initial_dataset.drop_duplicates(inplace=True)\n",
        "initial_dataset.dropna(inplace=True)\n",
        "\n",
        "# Encoding class labels\n",
        "label_encoder = LabelEncoder()\n",
        "initial_dataset['label'] = label_encoder.fit_transform(initial_dataset['label'])\n",
        "num_classes = len(label_encoder.classes_)"
      ],
      "metadata": {
        "id": "iWSnOArpmHqC"
      },
      "execution_count": 7,
      "outputs": []
    },
    {
      "cell_type": "markdown",
      "source": [
        "# Data Preparation and Sanity checks"
      ],
      "metadata": {
        "id": "3lsLjhKYdIOD"
      }
    },
    {
      "cell_type": "code",
      "source": [
        "train_dataset, validation_dataset = train_test_split(initial_dataset, test_size=0.2, random_state=42)"
      ],
      "metadata": {
        "id": "80ByFyb6dEy3"
      },
      "execution_count": 8,
      "outputs": []
    },
    {
      "cell_type": "code",
      "source": [
        "print(f\"Length of training dataset: {len(train_dataset)}\")\n",
        "print(f\"Length of validation dataset: {len(validation_dataset)}\")"
      ],
      "metadata": {
        "colab": {
          "base_uri": "https://localhost:8080/"
        },
        "id": "IIAPA6hTXh8W",
        "outputId": "88289daa-62e4-4aac-fdf4-d43bbac7490b"
      },
      "execution_count": 9,
      "outputs": [
        {
          "output_type": "stream",
          "name": "stdout",
          "text": [
            "Length of training dataset: 1561\n",
            "Length of validation dataset: 391\n"
          ]
        }
      ]
    },
    {
      "cell_type": "code",
      "source": [
        "train_dataset.head(5)"
      ],
      "metadata": {
        "colab": {
          "base_uri": "https://localhost:8080/",
          "height": 206
        },
        "id": "VbOGrW4WrHG7",
        "outputId": "67ec84fb-a39a-4223-9a6c-48401fdf5e4e"
      },
      "execution_count": 10,
      "outputs": [
        {
          "output_type": "execute_result",
          "data": {
            "text/plain": [
              "                                                   data  label\n",
              "585   विभिन्न विश्वविद्यालय विद्यालय तहका वार्षिक पर...      3\n",
              "1703  भन्नाले प्राविधिक शिक्षा व्यावसायिक्र तालीम पर...      2\n",
              "1464  नेपाल सरकार गृह मन्त्रालय जिल्ला प्रशासन कार्य...      1\n",
              "978   प्रेस विज्ञप्ति मिति नाफाबाट परिपूर्ति व्यवस्थ...      3\n",
              "1982  सरकारी वकील सम्बन्धी नियमावली नेपाल राजपत्रमा ...      2"
            ],
            "text/html": [
              "\n",
              "  <div id=\"df-16c75403-d316-4707-a9a1-4f2bac0581b5\" class=\"colab-df-container\">\n",
              "    <div>\n",
              "<style scoped>\n",
              "    .dataframe tbody tr th:only-of-type {\n",
              "        vertical-align: middle;\n",
              "    }\n",
              "\n",
              "    .dataframe tbody tr th {\n",
              "        vertical-align: top;\n",
              "    }\n",
              "\n",
              "    .dataframe thead th {\n",
              "        text-align: right;\n",
              "    }\n",
              "</style>\n",
              "<table border=\"1\" class=\"dataframe\">\n",
              "  <thead>\n",
              "    <tr style=\"text-align: right;\">\n",
              "      <th></th>\n",
              "      <th>data</th>\n",
              "      <th>label</th>\n",
              "    </tr>\n",
              "  </thead>\n",
              "  <tbody>\n",
              "    <tr>\n",
              "      <th>585</th>\n",
              "      <td>विभिन्न विश्वविद्यालय विद्यालय तहका वार्षिक पर...</td>\n",
              "      <td>3</td>\n",
              "    </tr>\n",
              "    <tr>\n",
              "      <th>1703</th>\n",
              "      <td>भन्नाले प्राविधिक शिक्षा व्यावसायिक्र तालीम पर...</td>\n",
              "      <td>2</td>\n",
              "    </tr>\n",
              "    <tr>\n",
              "      <th>1464</th>\n",
              "      <td>नेपाल सरकार गृह मन्त्रालय जिल्ला प्रशासन कार्य...</td>\n",
              "      <td>1</td>\n",
              "    </tr>\n",
              "    <tr>\n",
              "      <th>978</th>\n",
              "      <td>प्रेस विज्ञप्ति मिति नाफाबाट परिपूर्ति व्यवस्थ...</td>\n",
              "      <td>3</td>\n",
              "    </tr>\n",
              "    <tr>\n",
              "      <th>1982</th>\n",
              "      <td>सरकारी वकील सम्बन्धी नियमावली नेपाल राजपत्रमा ...</td>\n",
              "      <td>2</td>\n",
              "    </tr>\n",
              "  </tbody>\n",
              "</table>\n",
              "</div>\n",
              "    <div class=\"colab-df-buttons\">\n",
              "\n",
              "  <div class=\"colab-df-container\">\n",
              "    <button class=\"colab-df-convert\" onclick=\"convertToInteractive('df-16c75403-d316-4707-a9a1-4f2bac0581b5')\"\n",
              "            title=\"Convert this dataframe to an interactive table.\"\n",
              "            style=\"display:none;\">\n",
              "\n",
              "  <svg xmlns=\"http://www.w3.org/2000/svg\" height=\"24px\" viewBox=\"0 -960 960 960\">\n",
              "    <path d=\"M120-120v-720h720v720H120Zm60-500h600v-160H180v160Zm220 220h160v-160H400v160Zm0 220h160v-160H400v160ZM180-400h160v-160H180v160Zm440 0h160v-160H620v160ZM180-180h160v-160H180v160Zm440 0h160v-160H620v160Z\"/>\n",
              "  </svg>\n",
              "    </button>\n",
              "\n",
              "  <style>\n",
              "    .colab-df-container {\n",
              "      display:flex;\n",
              "      gap: 12px;\n",
              "    }\n",
              "\n",
              "    .colab-df-convert {\n",
              "      background-color: #E8F0FE;\n",
              "      border: none;\n",
              "      border-radius: 50%;\n",
              "      cursor: pointer;\n",
              "      display: none;\n",
              "      fill: #1967D2;\n",
              "      height: 32px;\n",
              "      padding: 0 0 0 0;\n",
              "      width: 32px;\n",
              "    }\n",
              "\n",
              "    .colab-df-convert:hover {\n",
              "      background-color: #E2EBFA;\n",
              "      box-shadow: 0px 1px 2px rgba(60, 64, 67, 0.3), 0px 1px 3px 1px rgba(60, 64, 67, 0.15);\n",
              "      fill: #174EA6;\n",
              "    }\n",
              "\n",
              "    .colab-df-buttons div {\n",
              "      margin-bottom: 4px;\n",
              "    }\n",
              "\n",
              "    [theme=dark] .colab-df-convert {\n",
              "      background-color: #3B4455;\n",
              "      fill: #D2E3FC;\n",
              "    }\n",
              "\n",
              "    [theme=dark] .colab-df-convert:hover {\n",
              "      background-color: #434B5C;\n",
              "      box-shadow: 0px 1px 3px 1px rgba(0, 0, 0, 0.15);\n",
              "      filter: drop-shadow(0px 1px 2px rgba(0, 0, 0, 0.3));\n",
              "      fill: #FFFFFF;\n",
              "    }\n",
              "  </style>\n",
              "\n",
              "    <script>\n",
              "      const buttonEl =\n",
              "        document.querySelector('#df-16c75403-d316-4707-a9a1-4f2bac0581b5 button.colab-df-convert');\n",
              "      buttonEl.style.display =\n",
              "        google.colab.kernel.accessAllowed ? 'block' : 'none';\n",
              "\n",
              "      async function convertToInteractive(key) {\n",
              "        const element = document.querySelector('#df-16c75403-d316-4707-a9a1-4f2bac0581b5');\n",
              "        const dataTable =\n",
              "          await google.colab.kernel.invokeFunction('convertToInteractive',\n",
              "                                                    [key], {});\n",
              "        if (!dataTable) return;\n",
              "\n",
              "        const docLinkHtml = 'Like what you see? Visit the ' +\n",
              "          '<a target=\"_blank\" href=https://colab.research.google.com/notebooks/data_table.ipynb>data table notebook</a>'\n",
              "          + ' to learn more about interactive tables.';\n",
              "        element.innerHTML = '';\n",
              "        dataTable['output_type'] = 'display_data';\n",
              "        await google.colab.output.renderOutput(dataTable, element);\n",
              "        const docLink = document.createElement('div');\n",
              "        docLink.innerHTML = docLinkHtml;\n",
              "        element.appendChild(docLink);\n",
              "      }\n",
              "    </script>\n",
              "  </div>\n",
              "\n",
              "\n",
              "<div id=\"df-f3f3dcc5-8ab0-4d57-903d-1244f424c040\">\n",
              "  <button class=\"colab-df-quickchart\" onclick=\"quickchart('df-f3f3dcc5-8ab0-4d57-903d-1244f424c040')\"\n",
              "            title=\"Suggest charts\"\n",
              "            style=\"display:none;\">\n",
              "\n",
              "<svg xmlns=\"http://www.w3.org/2000/svg\" height=\"24px\"viewBox=\"0 0 24 24\"\n",
              "     width=\"24px\">\n",
              "    <g>\n",
              "        <path d=\"M19 3H5c-1.1 0-2 .9-2 2v14c0 1.1.9 2 2 2h14c1.1 0 2-.9 2-2V5c0-1.1-.9-2-2-2zM9 17H7v-7h2v7zm4 0h-2V7h2v10zm4 0h-2v-4h2v4z\"/>\n",
              "    </g>\n",
              "</svg>\n",
              "  </button>\n",
              "\n",
              "<style>\n",
              "  .colab-df-quickchart {\n",
              "      --bg-color: #E8F0FE;\n",
              "      --fill-color: #1967D2;\n",
              "      --hover-bg-color: #E2EBFA;\n",
              "      --hover-fill-color: #174EA6;\n",
              "      --disabled-fill-color: #AAA;\n",
              "      --disabled-bg-color: #DDD;\n",
              "  }\n",
              "\n",
              "  [theme=dark] .colab-df-quickchart {\n",
              "      --bg-color: #3B4455;\n",
              "      --fill-color: #D2E3FC;\n",
              "      --hover-bg-color: #434B5C;\n",
              "      --hover-fill-color: #FFFFFF;\n",
              "      --disabled-bg-color: #3B4455;\n",
              "      --disabled-fill-color: #666;\n",
              "  }\n",
              "\n",
              "  .colab-df-quickchart {\n",
              "    background-color: var(--bg-color);\n",
              "    border: none;\n",
              "    border-radius: 50%;\n",
              "    cursor: pointer;\n",
              "    display: none;\n",
              "    fill: var(--fill-color);\n",
              "    height: 32px;\n",
              "    padding: 0;\n",
              "    width: 32px;\n",
              "  }\n",
              "\n",
              "  .colab-df-quickchart:hover {\n",
              "    background-color: var(--hover-bg-color);\n",
              "    box-shadow: 0 1px 2px rgba(60, 64, 67, 0.3), 0 1px 3px 1px rgba(60, 64, 67, 0.15);\n",
              "    fill: var(--button-hover-fill-color);\n",
              "  }\n",
              "\n",
              "  .colab-df-quickchart-complete:disabled,\n",
              "  .colab-df-quickchart-complete:disabled:hover {\n",
              "    background-color: var(--disabled-bg-color);\n",
              "    fill: var(--disabled-fill-color);\n",
              "    box-shadow: none;\n",
              "  }\n",
              "\n",
              "  .colab-df-spinner {\n",
              "    border: 2px solid var(--fill-color);\n",
              "    border-color: transparent;\n",
              "    border-bottom-color: var(--fill-color);\n",
              "    animation:\n",
              "      spin 1s steps(1) infinite;\n",
              "  }\n",
              "\n",
              "  @keyframes spin {\n",
              "    0% {\n",
              "      border-color: transparent;\n",
              "      border-bottom-color: var(--fill-color);\n",
              "      border-left-color: var(--fill-color);\n",
              "    }\n",
              "    20% {\n",
              "      border-color: transparent;\n",
              "      border-left-color: var(--fill-color);\n",
              "      border-top-color: var(--fill-color);\n",
              "    }\n",
              "    30% {\n",
              "      border-color: transparent;\n",
              "      border-left-color: var(--fill-color);\n",
              "      border-top-color: var(--fill-color);\n",
              "      border-right-color: var(--fill-color);\n",
              "    }\n",
              "    40% {\n",
              "      border-color: transparent;\n",
              "      border-right-color: var(--fill-color);\n",
              "      border-top-color: var(--fill-color);\n",
              "    }\n",
              "    60% {\n",
              "      border-color: transparent;\n",
              "      border-right-color: var(--fill-color);\n",
              "    }\n",
              "    80% {\n",
              "      border-color: transparent;\n",
              "      border-right-color: var(--fill-color);\n",
              "      border-bottom-color: var(--fill-color);\n",
              "    }\n",
              "    90% {\n",
              "      border-color: transparent;\n",
              "      border-bottom-color: var(--fill-color);\n",
              "    }\n",
              "  }\n",
              "</style>\n",
              "\n",
              "  <script>\n",
              "    async function quickchart(key) {\n",
              "      const quickchartButtonEl =\n",
              "        document.querySelector('#' + key + ' button');\n",
              "      quickchartButtonEl.disabled = true;  // To prevent multiple clicks.\n",
              "      quickchartButtonEl.classList.add('colab-df-spinner');\n",
              "      try {\n",
              "        const charts = await google.colab.kernel.invokeFunction(\n",
              "            'suggestCharts', [key], {});\n",
              "      } catch (error) {\n",
              "        console.error('Error during call to suggestCharts:', error);\n",
              "      }\n",
              "      quickchartButtonEl.classList.remove('colab-df-spinner');\n",
              "      quickchartButtonEl.classList.add('colab-df-quickchart-complete');\n",
              "    }\n",
              "    (() => {\n",
              "      let quickchartButtonEl =\n",
              "        document.querySelector('#df-f3f3dcc5-8ab0-4d57-903d-1244f424c040 button');\n",
              "      quickchartButtonEl.style.display =\n",
              "        google.colab.kernel.accessAllowed ? 'block' : 'none';\n",
              "    })();\n",
              "  </script>\n",
              "</div>\n",
              "\n",
              "    </div>\n",
              "  </div>\n"
            ],
            "application/vnd.google.colaboratory.intrinsic+json": {
              "type": "dataframe",
              "variable_name": "train_dataset",
              "summary": "{\n  \"name\": \"train_dataset\",\n  \"rows\": 1561,\n  \"fields\": [\n    {\n      \"column\": \"data\",\n      \"properties\": {\n        \"dtype\": \"string\",\n        \"num_unique_values\": 1561,\n        \"samples\": [\n          \"\\u0932\\u094b\\u0915 \\u0938\\u0947\\u0935\\u093e \\u0906\\u092f\\u094b\\u0917\\u0915\\u093e \\u092a\\u0930\\u093f\\u0915\\u094d\\u0937\\u093e\\u0930\\u094d\\u0925\\u0940\\u0932\\u0947 \\u0916\\u0930\\u093f\\u0926\\u093e\\u0930 \\u0938\\u0941\\u092c\\u094d\\u092c\\u093e\\u0915\\u094b \\u092a\\u0926\\u0915\\u093e \\u091a\\u0930\\u0923\\u0915\\u094b \\u092a\\u0930\\u0940\\u0915\\u094d\\u0937\\u093e \\u0926\\u093f\\u0928\\u0941\\u092a\\u0930\\u094d\\u0928\\u0947 \\u0917\\u094b\\u0930\\u0916\\u093e\\u092a\\u0924\\u094d\\u0930 \\u0926\\u0948\\u0928\\u093f\\u0915\\u092e\\u093e \\u0938\\u092e\\u093e\\u091a\\u093e\\u0930 \\u092f\\u0938\\u0905\\u0918\\u093f \\u091a\\u0930\\u0923\\u0915\\u094b \\u092a\\u0930\\u0940\\u0915\\u094d\\u0937\\u093e \\u0926\\u093f\\u0928\\u0941\\u092a\\u0930\\u094d\\u0928\\u0947 \\u0935\\u094d\\u092f\\u0935\\u0938\\u094d\\u0925\\u093e\\u0932\\u093e\\u0908 \\u0938\\u0902\\u0936\\u094b\\u0927\\u0928 \\u0924\\u0943\\u0924\\u093f\\u092f \\u091a\\u0930\\u0923\\u0915\\u094b \\u092a\\u0930\\u0940\\u0915\\u094d\\u0937\\u093e \\u0938\\u0902\\u091a\\u093e\\u0932\\u0928 \\u0935\\u094d\\u092f\\u0935\\u0938\\u094d\\u0925\\u093e\\u0938\\u0901\\u0917\\u0948 \\u092a\\u0930\\u0940\\u0915\\u094d\\u0937\\u093e\\u0930\\u094d\\u0925\\u0940\\u0932\\u0947 \\u0938\\u094b\\u091d\\u0948 \\u092e\\u0942\\u0932 \\u092a\\u0930\\u0940\\u0915\\u094d\\u0937\\u093e \\u092a\\u093e\\u0909\\u0928\\u0947\\u091b\\u0928\\u094d \\u0935\\u094d\\u092f\\u0935\\u0938\\u094d\\u0925\\u093e \\u091a\\u0930\\u0923 \\u092a\\u093e\\u0938 \\u0917\\u0930\\u094d\\u0928\\u0947\\u0932\\u0947 \\u092a\\u0930\\u0940\\u0915\\u094d\\u0937\\u093e\\u092e\\u093e \\u0938\\u0939\\u092d\\u093e\\u0917\\u0940 \\u092a\\u093e\\u0909\\u0928\\u0947\\u091b \\u092a\\u0942\\u0930\\u094d\\u0923\\u093e\\u0919\\u0915\\u0915\\u094b \\u091a\\u0930\\u0923\\u0915\\u094b \\u092a\\u0930\\u0940\\u0915\\u094d\\u0937\\u092e\\u093e \\u0909\\u0924\\u094d\\u0924\\u0940\\u0930\\u094d\\u0923 \\u0905\\u0902\\u0915 \\u0932\\u094d\\u092f\\u093e\\u0909\\u0928\\u0941\\u092a\\u0930\\u094d\\u091b\",\n          \"\\u0936\\u094d\\u0924\\u094d\\u0924 \\u0935\\u093f\\u0937\\u094d\\u0930\\u0923\\u093e\\u093e\\u093e \\u0917\\u0928\\u0941\\u0938\\u0942\\u091a\\u0940 \\u0928\\u093f\\u092f\\u092e \\u0909\\u092a\\u0928\\u093f\\u092f\\u092e \\u0938\\u092e\\u094d\\u092c\\u0928\\u094d\\u0927\\u093f\\u0924 \\u0935\\u093f\\u0937\\u092f \\u0935\\u0930\\u0927\\u0936\\u093e\\u0932\\u093e \\u0938\\u094d\\u0925\\u093e\\u092a\\u0928\\u093e \\u0907\\u091c\\u093e\\u091c\\u0924 \\u092a\\u093e\\u0909\\u0901 \\u092e\\u0947\\u0932\\u0947 \\u0920\\u0947\\u0917\\u093e\\u0928\\u093e\\u092e\\u093e \\u092a\\u0936\\u0941 \\u0935\\u0927\\u0936\\u093e\\u0932\\u093e \\u0938\\u094d\\u0925\\u093e\\u092a\\u0928\\u093e \\u0938\\u092e\\u093e\\u0932\\u0928 \\u0939\\u0941\\u0902\\u0926\\u093e \\u092a\\u094d\\u0930\\u091a\\u0932\\u093f\\u0924 \\u0915\\u093e\\u0928\\u0942\\u0928 \\u092a\\u0936\\u0941 \\u0935\\u0927\\u0936\\u093e\\u0932\\u093e \\u092e\\u093e\\u0938\\u0941 \\u091c\\u093e\\u0901\\u091a \\u092a\\u0936\\u0941 \\u0935\\u0927\\u0936\\u093e\\u0932\\u093e \\u092e\\u093e\\u0938\\u0941 \\u091c\\u093e\\u0901\\u091a \\u0928\\u093f\\u092f\\u092e\\u093e\\u0935\\u0932\\u0940 \\u092a\\u0930\\u093f\\u0927\\u093f \\u0917\\u0930\\u094d\\u0928\\u0947\\u091b\\u0941 \\u0928\\u093e\\u092e \\u092a\\u0936\\u0941 \\u0935\\u0927\\u0936\\u093e\\u0932\\u093e \\u0928\\u093f\\u0930\\u094d\\u092e\\u093e\\u0923 \\u0917\\u0930\\u093f\\u0928\\u0947 \\u091f\\u093e\\u0909\\u0901\\u0915\\u094b \\u0920\\u0947\\u0917\\u093e\\u0928\\u093e \\u091c\\u093f\\u0932\\u094d\\u0932\\u093e \\u0928\\u0917\\u0930\\u092a\\u093e\\u0932\\u093f\\u0915\\u093e\\u0917\\u093e\\u0909\\u0901 \\u0935\\u093f\\u0915\\u093e\\u0938 \\u0938\\u092e\\u093f\\u0924\\u093f \\u0935\\u0921\\u093e \\u0917\\u0930\\u093f\\u0928\\u0947 \\u092a\\u0936\\u0941\\u0915\\u094b \\u0915\\u093f\\u0938\\u093f\\u092e\",\n          \"\\u0928\\u0947\\u092a\\u093e\\u0932 \\u0938\\u0930\\u0915\\u093e\\u0930 \\u0917\\u0943\\u0939 \\u092e\\u0928\\u094d\\u0924\\u094d\\u0930\\u093e\\u0932\\u092f \\u091c\\u093f\\u0932\\u094d\\u0932\\u093e \\u092a\\u094d\\u0930\\u0936\\u093e\\u0938\\u0928 \\u0915\\u093e\\u0930\\u094d\\u092f\\u093e\\u0932\\u092f \\u092e\\u0915\\u0935\\u093e\\u0928\\u092a\\u0941\\u0930 \\u0928\\u0947\\u092a\\u093e\\u0932\\u0940 \\u0928\\u093e\\u0917\\u0930\\u093f\\u0915\\u0924\\u093e\\u0915\\u094b \\u092a\\u094d\\u0930\\u092e\\u093e\\u0923\\u092a\\u0924\\u094d\\u0930 \\u0928\\u093e\\u092a\\u094d\\u0930\\u0928\\u0902 \\u0928\\u093e\\u092e \\u092e\\u092e\\u0924\\u093e \\u0905\\u0927\\u093f\\u0915\\u093e\\u0930\\u0940 \\u0932\\u093f\\u0919\\u094d\\u0917 \\u092a\\u0941\\u0930\\u0941\\u0937 \\u091c\\u0928\\u094d\\u092e \\u0938\\u094d\\u0925\\u093e\\u0928 \\u091c\\u093f\\u0932\\u094d\\u0932\\u093e \\u092e\\u0915\\u0935\\u093e\\u0928\\u092a\\u0941\\u0930 \\u0917\\u093e\\u0935\\u093f \\u0939\\u0947\\u091f\\u094c\\u0902\\u0921\\u093e \\u0909\\u092a\\u092e\\u0939\\u093e\\u0928\\u0917\\u0930\\u092a\\u093e\\u0932\\u093f\\u0915\\u093e \\u0935\\u0921\\u093e \\u0938\\u094d\\u0925\\u093e\\u092f\\u0940 \\u092c\\u093e\\u0938\\u0938\\u094d\\u0925\\u093e\\u0928 \\u091c\\u093f\\u0932\\u094d\\u0932\\u093e \\u0930\\u0938\\u0941\\u0935\\u093e \\u0928\\u092a\\u093e \\u0917\\u094b\\u0938\\u093e\\u0907\\u0901\\u0915\\u0941\\u0923\\u094d\\u0921 \\u0917\\u093e\\u0909\\u0901\\u092a\\u093e\\u0932\\u093f\\u0915\\u093e \\u0935\\u0921\\u093e \\u091c\\u0928\\u094d\\u092e \\u092e\\u093f\\u0924\\u093f \\u0938\\u093e\\u0932 \\u092e\\u0939\\u093f\\u0928\\u093e \\u0917\\u0924\\u0947 \\u092c\\u093e\\u092c\\u0941\\u0915\\u094b \\u0928\\u093e\\u092e \\u092e\\u0928\\u094b\\u091c \\u0905\\u0927\\u093f\\u0915\\u093e\\u0930\\u0940 \\u0928\\u093e\\u092a\\u094d\\u0930\\u0928\\u0902 \\u0920\\u0947\\u0917\\u093e\\u0928\\u093e \\u0930\\u0938\\u0941\\u0935\\u093e \\u0928\\u092a\\u093e \\u0935\\u0902\\u0936\\u091c \\u0906\\u092e\\u093e\\u0915\\u094b \\u0928\\u093e\\u092e \\u0938\\u091e\\u094d\\u091c\\u0928\\u093e \\u0917\\u093f\\u0930\\u0940 \\u0928\\u093e\\u092a\\u094d\\u0930\\u0928\\u0902 \\u0920\\u0947\\u0917\\u093e\\u0928\\u093e \\u092e\\u0915\\u0935\\u093e\\u0928\\u092a\\u0941\\u0930 \\u0928\\u092a\\u093e \\u0935\\u0902\\u0936\\u091c \\u092a\\u0952\\u0924\\u093f\\u092a\\u0924\\u094d\\u0928\\u0940\\u0915\\u094b \\u0928\\u093e\\u092e\\u0925\\u0930 \\u0928\\u093e\\u092a\\u094d\\u0930\\u0928\\u0902 \\u0920\\u0947\\u0917\\u093e\\u0928\\u093e\"\n        ],\n        \"semantic_type\": \"\",\n        \"description\": \"\"\n      }\n    },\n    {\n      \"column\": \"label\",\n      \"properties\": {\n        \"dtype\": \"number\",\n        \"std\": 1,\n        \"min\": 0,\n        \"max\": 3,\n        \"num_unique_values\": 4,\n        \"samples\": [\n          2,\n          0,\n          3\n        ],\n        \"semantic_type\": \"\",\n        \"description\": \"\"\n      }\n    }\n  ]\n}"
            }
          },
          "metadata": {},
          "execution_count": 10
        }
      ]
    },
    {
      "cell_type": "code",
      "source": [
        "train_dataset['data'][0]"
      ],
      "metadata": {
        "colab": {
          "base_uri": "https://localhost:8080/",
          "height": 105
        },
        "id": "pFW1oA4sUFnw",
        "outputId": "e8f9083d-2e2c-4829-9879-8973a9f0a8ca"
      },
      "execution_count": 11,
      "outputs": [
        {
          "output_type": "execute_result",
          "data": {
            "text/plain": [
              "'चौधरी फाउण्डेसनद्वारा विद्यालयमा डिजिटल क्लासरूम विद्यालयमा शुद्ध खानेपानीको व्यवस्था काठमाडौं चौधरी फाउण्डेसनले विद्यालयमा डिजिटल क्लासरूमको अवधारणा कार्यान्वयनमा ल्याएको सूचना प्रविधिमा आधारित विश्वब्यापी अध्ययनअध्यापनको पहुँचमा नेपाली बालबालिका पुग्न सकून् सोंचका अवधारणा कार्यान्वयनमा ल्याइएको फाउण्डेसनले जनाएको चरणमा नवलपुरका सिन्धुपाल्चोकको विद्यालय डिजिटल क्लासरूम परियोजनाका छनौट नवलपुर देवचुली नगरपालिकास्थित शान्ति श्रृजना आधारभूत विद्यालय कावासोती नगरपालिकास्थित कालिका आधारभूत विद्यालय सिन्धुपाल्चोकको महाकाली माध्यमिक विद्यालय गिरानचौर छनौटमा परेको परियोजना अन्र्तगत चरणमा प्रत्येक विद्यालयले सातवटा ल्यापटप चारवटा डेक्सटप इन्चको एलजी टेलिभिजन प्रोजेक्टर प्राप्त डिजिटल क्लासरूमको विस्तारमा फाउण्डेसनले सहयोग जनाएको नवलपुरका विद्यालयमा स्थापित डिजिटल क्लास रूमको शनिवार छुट्टाछुट्टै उद्घाटन सीजीका अध्यक्ष एवं सांसद विनोद चौधरीले विश्वमा साक्षरताको परिभाषा परिवर्तन कम्प्युटर शिक्षा अंग्रेजी भाषाको ज्ञान व्यक्तिलाई साक्षर मान्ने प्रचलन विकास सरकारी विद्यालयबाट अभियान शुरू गरिएको जानकारी दिदै अध्यक्ष चौधरीले अवसरबाट बन्चित बालबालिकासमक्ष प्रस्तुत गरिएका यस्ता कार्यक्रम प्रभावकारी सावित विश्वास ब्यक्त डिजिटल क्लासरूम संचालन गरिएका विद्यालयसहित विद्यालयमा शुद्ध खानेपानीको व्यवस्था मिलाईएको अध्यक्ष चौधरीले परियोजनाको उद्घाटन शुद्ध खानेपानी प्रणाली विद्यालयहरूलाई हस्तान्तरण'"
            ],
            "application/vnd.google.colaboratory.intrinsic+json": {
              "type": "string"
            }
          },
          "metadata": {},
          "execution_count": 11
        }
      ]
    },
    {
      "cell_type": "code",
      "source": [
        "encoded_label = train_dataset['label'][0]\n",
        "class_name = label_encoder.inverse_transform([encoded_label])[0]\n",
        "\n",
        "print(f\"Class: {class_name}\")"
      ],
      "metadata": {
        "colab": {
          "base_uri": "https://localhost:8080/"
        },
        "id": "IRFyOlsyda3G",
        "outputId": "feab43b2-0b42-4f8f-a1e7-8a1c2b229c82"
      },
      "execution_count": 12,
      "outputs": [
        {
          "output_type": "stream",
          "name": "stdout",
          "text": [
            "Class: Education\n"
          ]
        }
      ]
    },
    {
      "cell_type": "code",
      "source": [
        "validation_dataset.head(5)"
      ],
      "metadata": {
        "colab": {
          "base_uri": "https://localhost:8080/",
          "height": 206
        },
        "id": "1Ps74_dWrHJv",
        "outputId": "e7a1ef74-b4b5-4853-d6be-19235047f9e8"
      },
      "execution_count": 13,
      "outputs": [
        {
          "output_type": "execute_result",
          "data": {
            "text/plain": [
              "                                                   data  label\n",
              "1667  राजश्व न्यायाधिकरणमा रिक्त पदहरूका कार्यालयका ...      2\n",
              "1458  नेपाल सरकार गृह मन्त्रालय जिल्ला प्रशासन कार्य...      1\n",
              "1960  ग्र्ट उपनियम वमोजिम जम्मा रकम सम्वन्धित ठेकेदा...      2\n",
              "1632  भन्सार नाकामा निरीक्षणः नियम बरमोजिम सम्वन्धित...      2\n",
              "339   बल्खु त्रिभुवन विश्वविद्यालय विज्ञान प्रविधि अ...      0"
            ],
            "text/html": [
              "\n",
              "  <div id=\"df-33ee4c6d-fc90-4ea9-8024-e840abedd1ab\" class=\"colab-df-container\">\n",
              "    <div>\n",
              "<style scoped>\n",
              "    .dataframe tbody tr th:only-of-type {\n",
              "        vertical-align: middle;\n",
              "    }\n",
              "\n",
              "    .dataframe tbody tr th {\n",
              "        vertical-align: top;\n",
              "    }\n",
              "\n",
              "    .dataframe thead th {\n",
              "        text-align: right;\n",
              "    }\n",
              "</style>\n",
              "<table border=\"1\" class=\"dataframe\">\n",
              "  <thead>\n",
              "    <tr style=\"text-align: right;\">\n",
              "      <th></th>\n",
              "      <th>data</th>\n",
              "      <th>label</th>\n",
              "    </tr>\n",
              "  </thead>\n",
              "  <tbody>\n",
              "    <tr>\n",
              "      <th>1667</th>\n",
              "      <td>राजश्व न्यायाधिकरणमा रिक्त पदहरूका कार्यालयका ...</td>\n",
              "      <td>2</td>\n",
              "    </tr>\n",
              "    <tr>\n",
              "      <th>1458</th>\n",
              "      <td>नेपाल सरकार गृह मन्त्रालय जिल्ला प्रशासन कार्य...</td>\n",
              "      <td>1</td>\n",
              "    </tr>\n",
              "    <tr>\n",
              "      <th>1960</th>\n",
              "      <td>ग्र्ट उपनियम वमोजिम जम्मा रकम सम्वन्धित ठेकेदा...</td>\n",
              "      <td>2</td>\n",
              "    </tr>\n",
              "    <tr>\n",
              "      <th>1632</th>\n",
              "      <td>भन्सार नाकामा निरीक्षणः नियम बरमोजिम सम्वन्धित...</td>\n",
              "      <td>2</td>\n",
              "    </tr>\n",
              "    <tr>\n",
              "      <th>339</th>\n",
              "      <td>बल्खु त्रिभुवन विश्वविद्यालय विज्ञान प्रविधि अ...</td>\n",
              "      <td>0</td>\n",
              "    </tr>\n",
              "  </tbody>\n",
              "</table>\n",
              "</div>\n",
              "    <div class=\"colab-df-buttons\">\n",
              "\n",
              "  <div class=\"colab-df-container\">\n",
              "    <button class=\"colab-df-convert\" onclick=\"convertToInteractive('df-33ee4c6d-fc90-4ea9-8024-e840abedd1ab')\"\n",
              "            title=\"Convert this dataframe to an interactive table.\"\n",
              "            style=\"display:none;\">\n",
              "\n",
              "  <svg xmlns=\"http://www.w3.org/2000/svg\" height=\"24px\" viewBox=\"0 -960 960 960\">\n",
              "    <path d=\"M120-120v-720h720v720H120Zm60-500h600v-160H180v160Zm220 220h160v-160H400v160Zm0 220h160v-160H400v160ZM180-400h160v-160H180v160Zm440 0h160v-160H620v160ZM180-180h160v-160H180v160Zm440 0h160v-160H620v160Z\"/>\n",
              "  </svg>\n",
              "    </button>\n",
              "\n",
              "  <style>\n",
              "    .colab-df-container {\n",
              "      display:flex;\n",
              "      gap: 12px;\n",
              "    }\n",
              "\n",
              "    .colab-df-convert {\n",
              "      background-color: #E8F0FE;\n",
              "      border: none;\n",
              "      border-radius: 50%;\n",
              "      cursor: pointer;\n",
              "      display: none;\n",
              "      fill: #1967D2;\n",
              "      height: 32px;\n",
              "      padding: 0 0 0 0;\n",
              "      width: 32px;\n",
              "    }\n",
              "\n",
              "    .colab-df-convert:hover {\n",
              "      background-color: #E2EBFA;\n",
              "      box-shadow: 0px 1px 2px rgba(60, 64, 67, 0.3), 0px 1px 3px 1px rgba(60, 64, 67, 0.15);\n",
              "      fill: #174EA6;\n",
              "    }\n",
              "\n",
              "    .colab-df-buttons div {\n",
              "      margin-bottom: 4px;\n",
              "    }\n",
              "\n",
              "    [theme=dark] .colab-df-convert {\n",
              "      background-color: #3B4455;\n",
              "      fill: #D2E3FC;\n",
              "    }\n",
              "\n",
              "    [theme=dark] .colab-df-convert:hover {\n",
              "      background-color: #434B5C;\n",
              "      box-shadow: 0px 1px 3px 1px rgba(0, 0, 0, 0.15);\n",
              "      filter: drop-shadow(0px 1px 2px rgba(0, 0, 0, 0.3));\n",
              "      fill: #FFFFFF;\n",
              "    }\n",
              "  </style>\n",
              "\n",
              "    <script>\n",
              "      const buttonEl =\n",
              "        document.querySelector('#df-33ee4c6d-fc90-4ea9-8024-e840abedd1ab button.colab-df-convert');\n",
              "      buttonEl.style.display =\n",
              "        google.colab.kernel.accessAllowed ? 'block' : 'none';\n",
              "\n",
              "      async function convertToInteractive(key) {\n",
              "        const element = document.querySelector('#df-33ee4c6d-fc90-4ea9-8024-e840abedd1ab');\n",
              "        const dataTable =\n",
              "          await google.colab.kernel.invokeFunction('convertToInteractive',\n",
              "                                                    [key], {});\n",
              "        if (!dataTable) return;\n",
              "\n",
              "        const docLinkHtml = 'Like what you see? Visit the ' +\n",
              "          '<a target=\"_blank\" href=https://colab.research.google.com/notebooks/data_table.ipynb>data table notebook</a>'\n",
              "          + ' to learn more about interactive tables.';\n",
              "        element.innerHTML = '';\n",
              "        dataTable['output_type'] = 'display_data';\n",
              "        await google.colab.output.renderOutput(dataTable, element);\n",
              "        const docLink = document.createElement('div');\n",
              "        docLink.innerHTML = docLinkHtml;\n",
              "        element.appendChild(docLink);\n",
              "      }\n",
              "    </script>\n",
              "  </div>\n",
              "\n",
              "\n",
              "<div id=\"df-5c52e3c5-3858-403a-9f7d-08c346747262\">\n",
              "  <button class=\"colab-df-quickchart\" onclick=\"quickchart('df-5c52e3c5-3858-403a-9f7d-08c346747262')\"\n",
              "            title=\"Suggest charts\"\n",
              "            style=\"display:none;\">\n",
              "\n",
              "<svg xmlns=\"http://www.w3.org/2000/svg\" height=\"24px\"viewBox=\"0 0 24 24\"\n",
              "     width=\"24px\">\n",
              "    <g>\n",
              "        <path d=\"M19 3H5c-1.1 0-2 .9-2 2v14c0 1.1.9 2 2 2h14c1.1 0 2-.9 2-2V5c0-1.1-.9-2-2-2zM9 17H7v-7h2v7zm4 0h-2V7h2v10zm4 0h-2v-4h2v4z\"/>\n",
              "    </g>\n",
              "</svg>\n",
              "  </button>\n",
              "\n",
              "<style>\n",
              "  .colab-df-quickchart {\n",
              "      --bg-color: #E8F0FE;\n",
              "      --fill-color: #1967D2;\n",
              "      --hover-bg-color: #E2EBFA;\n",
              "      --hover-fill-color: #174EA6;\n",
              "      --disabled-fill-color: #AAA;\n",
              "      --disabled-bg-color: #DDD;\n",
              "  }\n",
              "\n",
              "  [theme=dark] .colab-df-quickchart {\n",
              "      --bg-color: #3B4455;\n",
              "      --fill-color: #D2E3FC;\n",
              "      --hover-bg-color: #434B5C;\n",
              "      --hover-fill-color: #FFFFFF;\n",
              "      --disabled-bg-color: #3B4455;\n",
              "      --disabled-fill-color: #666;\n",
              "  }\n",
              "\n",
              "  .colab-df-quickchart {\n",
              "    background-color: var(--bg-color);\n",
              "    border: none;\n",
              "    border-radius: 50%;\n",
              "    cursor: pointer;\n",
              "    display: none;\n",
              "    fill: var(--fill-color);\n",
              "    height: 32px;\n",
              "    padding: 0;\n",
              "    width: 32px;\n",
              "  }\n",
              "\n",
              "  .colab-df-quickchart:hover {\n",
              "    background-color: var(--hover-bg-color);\n",
              "    box-shadow: 0 1px 2px rgba(60, 64, 67, 0.3), 0 1px 3px 1px rgba(60, 64, 67, 0.15);\n",
              "    fill: var(--button-hover-fill-color);\n",
              "  }\n",
              "\n",
              "  .colab-df-quickchart-complete:disabled,\n",
              "  .colab-df-quickchart-complete:disabled:hover {\n",
              "    background-color: var(--disabled-bg-color);\n",
              "    fill: var(--disabled-fill-color);\n",
              "    box-shadow: none;\n",
              "  }\n",
              "\n",
              "  .colab-df-spinner {\n",
              "    border: 2px solid var(--fill-color);\n",
              "    border-color: transparent;\n",
              "    border-bottom-color: var(--fill-color);\n",
              "    animation:\n",
              "      spin 1s steps(1) infinite;\n",
              "  }\n",
              "\n",
              "  @keyframes spin {\n",
              "    0% {\n",
              "      border-color: transparent;\n",
              "      border-bottom-color: var(--fill-color);\n",
              "      border-left-color: var(--fill-color);\n",
              "    }\n",
              "    20% {\n",
              "      border-color: transparent;\n",
              "      border-left-color: var(--fill-color);\n",
              "      border-top-color: var(--fill-color);\n",
              "    }\n",
              "    30% {\n",
              "      border-color: transparent;\n",
              "      border-left-color: var(--fill-color);\n",
              "      border-top-color: var(--fill-color);\n",
              "      border-right-color: var(--fill-color);\n",
              "    }\n",
              "    40% {\n",
              "      border-color: transparent;\n",
              "      border-right-color: var(--fill-color);\n",
              "      border-top-color: var(--fill-color);\n",
              "    }\n",
              "    60% {\n",
              "      border-color: transparent;\n",
              "      border-right-color: var(--fill-color);\n",
              "    }\n",
              "    80% {\n",
              "      border-color: transparent;\n",
              "      border-right-color: var(--fill-color);\n",
              "      border-bottom-color: var(--fill-color);\n",
              "    }\n",
              "    90% {\n",
              "      border-color: transparent;\n",
              "      border-bottom-color: var(--fill-color);\n",
              "    }\n",
              "  }\n",
              "</style>\n",
              "\n",
              "  <script>\n",
              "    async function quickchart(key) {\n",
              "      const quickchartButtonEl =\n",
              "        document.querySelector('#' + key + ' button');\n",
              "      quickchartButtonEl.disabled = true;  // To prevent multiple clicks.\n",
              "      quickchartButtonEl.classList.add('colab-df-spinner');\n",
              "      try {\n",
              "        const charts = await google.colab.kernel.invokeFunction(\n",
              "            'suggestCharts', [key], {});\n",
              "      } catch (error) {\n",
              "        console.error('Error during call to suggestCharts:', error);\n",
              "      }\n",
              "      quickchartButtonEl.classList.remove('colab-df-spinner');\n",
              "      quickchartButtonEl.classList.add('colab-df-quickchart-complete');\n",
              "    }\n",
              "    (() => {\n",
              "      let quickchartButtonEl =\n",
              "        document.querySelector('#df-5c52e3c5-3858-403a-9f7d-08c346747262 button');\n",
              "      quickchartButtonEl.style.display =\n",
              "        google.colab.kernel.accessAllowed ? 'block' : 'none';\n",
              "    })();\n",
              "  </script>\n",
              "</div>\n",
              "\n",
              "    </div>\n",
              "  </div>\n"
            ],
            "application/vnd.google.colaboratory.intrinsic+json": {
              "type": "dataframe",
              "variable_name": "validation_dataset",
              "summary": "{\n  \"name\": \"validation_dataset\",\n  \"rows\": 391,\n  \"fields\": [\n    {\n      \"column\": \"data\",\n      \"properties\": {\n        \"dtype\": \"string\",\n        \"num_unique_values\": 391,\n        \"samples\": [\n          \"\\u0917\\u094b\\u0930\\u0916\\u093e\\u092a\\u0924\\u094d\\u0930 \\u0938\\u092e\\u093e\\u091a\\u093e\\u0930\\u0926\\u093e\\u0924\\u093e \\u0915\\u093e\\u0920\\u092e\\u093e\\u0921\\u094c\\u0901 \\u0905\\u0938\\u094b\\u091c \\u0917\\u0924\\u0947 \\u0915\\u093e\\u0920\\u092e\\u093e\\u0921\\u094c\\u0901 \\u092e\\u0939\\u093e\\u0928\\u0917\\u0930\\u092d\\u093f\\u0924\\u094d\\u0930\\u0915\\u093e \\u0938\\u094d\\u0935\\u093e\\u0938\\u094d\\u0925\\u094d\\u092f \\u092e\\u093e\\u092a\\u0926\\u0923\\u094d\\u0921 \\u092a\\u0942\\u0930\\u093e \\u0935\\u093f\\u0926\\u094d\\u092f\\u093e\\u0932\\u092f \\u0905\\u0938\\u094b\\u091c \\u0917\\u0924\\u0947\\u092c\\u093e\\u091f \\u0938\\u091e\\u094d\\u091a\\u093e\\u0932\\u0928 \\u0938\\u0915\\u093f\\u0928\\u0947 \\u092e\\u0939\\u093e\\u0928\\u0917\\u0930\\u092a\\u093e\\u0932\\u093f\\u0915\\u093e\\u0915\\u093e \\u092a\\u094d\\u0930\\u092e\\u0941\\u0916 \\u090f\\u0935\\u0902 \\u0938\\u092e\\u093f\\u0924\\u093f\\u0915\\u093e \\u0905\\u0927\\u094d\\u092f\\u0915\\u094d\\u0937 \\u0935\\u093f\\u0926\\u094d\\u092f\\u093e\\u0938\\u0941\\u0928\\u094d\\u0926\\u0930 \\u0936\\u093e\\u0915\\u094d\\u092f\\u0915\\u094b \\u0905\\u0927\\u094d\\u092f\\u0915\\u094d\\u0937\\u0924\\u093e\\u092e\\u093e \\u092c\\u0938\\u0947\\u0915\\u094b \\u0928\\u0917\\u0930 \\u0936\\u093f\\u0915\\u094d\\u0937\\u093e \\u0938\\u092e\\u093f\\u0924\\u093f\\u0932\\u0947 \\u092c\\u0948\\u0920\\u0915\\u0932\\u0947 \\u0928\\u093f\\u0930\\u094d\\u0923\\u092f \\u092c\\u0948\\u0920\\u0915\\u0932\\u0947 \\u0935\\u093f\\u0926\\u094d\\u092f\\u093e\\u0932\\u092f \\u0938\\u091e\\u094d\\u091a\\u093e\\u0932\\u0928 \\u0928\\u094d\\u092f\\u0942\\u0942\\u0928\\u0924\\u092e \\u0930\\u0942\\u092a\\u092e\\u093e \\u092a\\u093e\\u0932\\u0928\\u093e \\u0917\\u0930\\u094d\\u0928\\u0941\\u092a\\u0930\\u094d\\u0928\\u0947 \\u092c\\u0941\\u0901\\u0926\\u0947 \\u092e\\u093e\\u092a\\u0926\\u0923\\u094d\\u0921\\u0938\\u0939\\u093f\\u0924 \\u0928\\u093f\\u0930\\u094d\\u0923\\u092f \\u092a\\u094d\\u0930\\u092e\\u0941\\u0916 \\u0936\\u093e\\u0915\\u094d\\u092f\\u0932\\u0947 \\u0915\\u094b\\u092d\\u093f\\u0921 \\u092e\\u0939\\u093e\\u092e\\u093e\\u0930\\u0940\\u0915\\u094b \\u0905\\u0935\\u0938\\u094d\\u0925\\u093e\\u092e\\u093e \\u092c\\u093e\\u0932\\u092c\\u093e\\u0932\\u093f\\u0915\\u093e\\u0915\\u094b \\u092d\\u0935\\u093f\\u0937\\u094d\\u092f \\u0938\\u094d\\u0935\\u093e\\u0938\\u094d\\u0925\\u094d\\u092f \\u091a\\u093f\\u0928\\u094d\\u0924\\u093e\\u0915\\u094b \\u0935\\u093f\\u0937\\u092f \\u0935\\u093f\\u0935\\u0947\\u0915\\u092a\\u0942\\u0930\\u094d\\u0923 \\u0928\\u093f\\u0930\\u094d\\u0923\\u092f \\u0932\\u093f\\u0928\\u0941 \\u0909\\u091a\\u093f\\u0924 \\u092c\\u0924\\u093e\\u0909\\u0928\\u0941\\u092d\\u092f\\u094b\",\n          \"\\u0917\\u094b\\u0930\\u0916\\u093e\\u092a\\u0924\\u094d\\u0930 \\u0938\\u092e\\u093e\\u091a\\u093e\\u0930\\u0926\\u093e\\u0924\\u093e \\u0915\\u093e\\u0920\\u092e\\u093e\\u0921\\u094c\\u0901 \\u092a\\u0941\\u0938 \\u0917\\u0924\\u0947 \\u092a\\u094d\\u0930\\u0927\\u093e\\u0928\\u092e\\u0928\\u094d\\u0924\\u094d\\u0930\\u0940 \\u0936\\u0947\\u0930\\u092c\\u0939\\u093e\\u0926\\u0941\\u0930 \\u0926\\u0947\\u0909\\u0935\\u093e\\u0932\\u0947 \\u092e\\u0941\\u0932\\u0941\\u0915 \\u0930\\u0942\\u092a\\u093e\\u0928\\u094d\\u0924\\u0930\\u0923\\u092e\\u093e \\u0935\\u093f\\u0936\\u094d\\u0935\\u0935\\u093f\\u0926\\u094d\\u092f\\u093e\\u0932\\u092f\\u0915\\u094b \\u092d\\u0942\\u092e\\u093f\\u0915\\u093e \\u092e\\u0939\\u0924\\u094d\\u0924\\u094d\\u0935\\u092a\\u0942\\u0930\\u094d\\u0923 \\u0930\\u0939\\u0928\\u0947 \\u092c\\u0924\\u093e\\u0909\\u0928\\u0941\\u092d\\u090f\\u0915\\u094b \\u092a\\u0942\\u0930\\u094d\\u0935\\u093e\\u091e\\u094d\\u091a\\u0932 \\u0935\\u093f\\u0936\\u094d\\u0935\\u0935\\u093f\\u0926\\u094d\\u092f\\u093e\\u0932\\u092f\\u0915\\u094b \\u0938\\u092d\\u093e \\u092c\\u0948\\u0920\\u0915\\u0932\\u093e\\u0908 \\u0936\\u0941\\u0915\\u094d\\u0930\\u092c\\u093e\\u0930 \\u0938\\u092e\\u094d\\u092c\\u094b\\u0927\\u0928 \\u0909\\u0939\\u093e\\u0901\\u0932\\u0947 \\u0932\\u094b\\u0915\\u0924\\u093e\\u0928\\u094d\\u0924\\u094d\\u0930\\u093f\\u0915 \\u092e\\u0942\\u0932\\u094d\\u092f \\u092e\\u093e\\u0928\\u094d\\u092f\\u0924\\u093e \\u0938\\u0902\\u0938\\u094d\\u0915\\u093e\\u0930\\u0915\\u093e \\u0932\\u094b\\u0915\\u0915\\u0932\\u094d\\u092f\\u093e\\u0923\\u0915\\u093e\\u0930\\u0940 \\u0930\\u093e\\u091c\\u094d\\u092f\\u0915\\u094b \\u092d\\u093e\\u0935\\u0928\\u093e\\u0905\\u0928\\u0941\\u0938\\u093e\\u0930 \\u092e\\u0941\\u0932\\u0941\\u0915 \\u0930\\u0942\\u092a\\u093e\\u0928\\u094d\\u0924\\u0930\\u0923\\u0915\\u093e \\u0938\\u0939\\u092f\\u094b\\u0917 \\u092a\\u0941\\u092f\\u093e\\u0909\\u0928\\u0947 \\u091c\\u0928\\u0936\\u0915\\u094d\\u0924\\u093f \\u0909\\u0924\\u094d\\u092a\\u093e\\u0926\\u0928\\u092e\\u093e \\u0935\\u093f\\u0936\\u094d\\u0935\\u0935\\u093f\\u0926\\u094d\\u092f\\u093e\\u0932\\u092f\\u0932\\u0947 \\u0927\\u094d\\u092f\\u093e\\u0928 \\u0926\\u093f\\u0928\\u0947\\u091b \\u0935\\u093f\\u0936\\u094d\\u0935\\u093e\\u0938 \\u0932\\u093f\\u090f\\u0915\\u094b \\u0935\\u093f\\u0936\\u094d\\u0935\\u0935\\u093f\\u0926\\u094d\\u092f\\u093e\\u0932\\u092f\\u0915\\u093e \\u0915\\u0941\\u0932\\u092a\\u0924\\u093f\\u0938\\u092e\\u0947\\u0924 \\u0930\\u0939\\u0928\\u0941\\u092d\\u090f\\u0915\\u093e \\u092a\\u094d\\u0930\\u0927\\u093e\\u0928\\u092e\\u0928\\u094d\\u0924\\u094d\\u0930\\u0940 \\u0926\\u0947\\u0909\\u0935\\u093e\\u0932\\u0947 \\u0938\\u092e\\u092f\\u0915\\u094b \\u0906\\u0935\\u0936\\u094d\\u092f\\u0915\\u0924\\u093e\\u0905\\u0928\\u0941\\u0938\\u093e\\u0930 \\u0935\\u093f\\u0936\\u094d\\u0935\\u0935\\u093f\\u0926\\u094d\\u092f\\u093e\\u0932\\u092f \\u0936\\u093f\\u0915\\u094d\\u0937\\u093e\\u0932\\u093e\\u0908 \\u0905\\u0927\\u094d\\u092f\\u092f\\u0928 \\u0905\\u0928\\u0941\\u0938\\u0928\\u094d\\u0927\\u093e\\u0928 \\u0928\\u0935\\u092a\\u094d\\u0930\\u0935\\u0930\\u094d\\u0924\\u0928\\u0938\\u0901\\u0917 \\u091c\\u094b\\u0921\\u094d\\u0928 \\u0906\\u0935\\u0936\\u094d\\u092f\\u0915 \\u092c\\u0924\\u093e\\u0909\\u0928\\u0941\\u092d\\u092f\\u094b \\u0909\\u0939\\u093e\\u0901\\u0932\\u0947 \\u0930\\u093e\\u0937\\u094d\\u091f\\u094d\\u0930\\u0932\\u093e\\u0908 \\u0938\\u092e\\u0941\\u0928\\u094d\\u0928\\u0924\\u093f \\u0938\\u092e\\u0943\\u0926\\u094d\\u0927\\u093f \\u0935\\u093f\\u0915\\u093e\\u0938\\u092e\\u093e \\u092c\\u0922\\u093e\\u0909\\u0928 \\u0905\\u0928\\u094d\\u0924\\u0930\\u094d\\u0930\\u093e\\u0937\\u094d\\u091f\\u094d\\u0930\\u093f\\u092f \\u092c\\u091c\\u093e\\u0930\\u0938\\u0901\\u0917 \\u092a\\u094d\\u0930\\u0924\\u093f\\u0938\\u094d\\u092a\\u0930\\u094d\\u0927\\u093e \\u0917\\u0930\\u094d\\u0928\\u0938\\u0915\\u094d\\u0928\\u0947 \\u091c\\u0928\\u0936\\u0915\\u094d\\u0924\\u093f \\u0909\\u0924\\u094d\\u092a\\u093e\\u0926\\u0928 \\u0906\\u0935\\u0936\\u094d\\u092f\\u0915 \\u0909\\u0932\\u094d\\u0932\\u0947\\u0916 \\u0917\\u0930\\u094d\\u0928\\u0941\\u092d\\u092f\\u094b \\u0909\\u0939\\u093e\\u0901\\u0932\\u0947 \\u0935\\u093f\\u091c\\u094d\\u091e\\u093e\\u0928 \\u0935\\u094d\\u092f\\u0935\\u0938\\u094d\\u0925\\u093e\\u092a\\u0928 \\u0907\\u0928\\u094d\\u091c\\u093f\\u0928\\u093f\\u092f\\u0930\\u093f\\u0919 \\u0938\\u0942\\u091a\\u0928\\u093e \\u092a\\u094d\\u0930\\u0935\\u093f\\u0927\\u093f\\u0938\\u0901\\u0917 \\u0938\\u092e\\u094d\\u092c\\u0928\\u094d\\u0927\\u093f\\u0924 \\u0935\\u093f\\u0937\\u092f\\u0915\\u094b \\u092a\\u0922\\u093e\\u0907\\u092e\\u093e \\u091c\\u094b\\u0921 \\u0928\\u093f\\u0930\\u094d\\u0926\\u0947\\u0936\\u0928 \\u0926\\u093f\\u0901\\u0926\\u0948 \\u0930\\u093e\\u0937\\u094d\\u091f\\u094d\\u0930\\u093f\\u092f \\u0906\\u0935\\u0936\\u094d\\u092f\\u0915\\u0924\\u093e \\u0938\\u092e\\u094d\\u092c\\u094b\\u0927\\u0928 \\u0939\\u0941\\u0928\\u0941\\u0915\\u093e \\u0905\\u0928\\u094d\\u0924\\u0930\\u094d\\u0930\\u093e\\u0937\\u094d\\u091f\\u094d\\u0930\\u093f\\u092f \\u092e\\u093e\\u0917\\u0938\\u092e\\u0947\\u0924 \\u0938\\u092e\\u094d\\u092c\\u094b\\u0927\\u0928 \\u0926\\u0915\\u094d\\u0937 \\u091c\\u0928\\u0936\\u0915\\u094d\\u0924\\u093f \\u0909\\u0924\\u094d\\u092a\\u093e\\u0926\\u0928\\u092e\\u093e \\u0927\\u094d\\u092f\\u093e\\u0928 \\u0915\\u0947\\u0928\\u094d\\u0926\\u094d\\u0930\\u093f\\u0924 \\u0935\\u093f\\u0936\\u094d\\u0935\\u0935\\u093f\\u0926\\u094d\\u092f\\u093e\\u0932\\u092f\\u0915\\u094b \\u0927\\u094d\\u092f\\u093e\\u0928\\u093e\\u0915\\u0930\\u094d\\u0937\\u0923 \\u0917\\u0930\\u093e\\u0909\\u0928 \\u0909\\u0939\\u093e\\u0901\\u0932\\u0947 \\u0935\\u093f\\u0936\\u094d\\u0935\\u0935\\u093f\\u0926\\u094d\\u092f\\u093e\\u0932\\u092f\\u0932\\u0947 \\u0935\\u093f\\u0926\\u094d\\u092f\\u093e\\u0930\\u094d\\u0925\\u0940\\u0932\\u093e\\u0908 \\u0938\\u0948\\u0926\\u094d\\u0927\\u093e\\u0928\\u094d\\u0924\\u093f\\u0915 \\u091c\\u094d\\u091e\\u093e\\u0928 \\u0926\\u093f\\u0928\\u0947 \\u091c\\u0940\\u0935\\u0928\\u094b\\u092a\\u092f\\u094b\\u0917\\u0940 \\u0936\\u093f\\u0915\\u094d\\u0937\\u093e \\u092a\\u094d\\u0930\\u0935\\u093f\\u0927\\u093f \\u0938\\u0940\\u092a \\u0938\\u093f\\u0915\\u093e\\u0907\\u092e\\u093e \\u0906\\u0924\\u094d\\u092e\\u0928\\u093f\\u0930\\u094d\\u092d\\u0930 \\u092c\\u0928\\u093e\\u0909\\u0928\\u0947\\u0924\\u0930\\u094d\\u092b \\u0938\\u094b\\u091a\\u094d\\u0928\\u0941\\u092a\\u0930\\u094d\\u0928\\u0947 \\u092c\\u0924\\u093e\\u0909\\u0901\\u0926\\u0948 \\u0928\\u093e\\u0917\\u0930\\u093f\\u0915\\u0932\\u093e\\u0908 \\u0935\\u094d\\u092f\\u093e\\u0935\\u0938\\u093e\\u092f\\u093f\\u0915 \\u0909\\u0926\\u094d\\u092f\\u092e\\u0936\\u0940\\u0932 \\u092c\\u0928\\u093e\\u0909\\u0928\\u0947 \\u0928\\u0947\\u092a\\u093e\\u0932 \\u0935\\u093f\\u0915\\u093e\\u0938\\u0936\\u0940\\u0932 \\u092e\\u0941\\u0932\\u0941\\u0915\\u092e\\u093e \\u0938\\u092e\\u093e\\u091c \\u0938\\u0941\\u0927\\u093e\\u0930 \\u090f\\u0935\\u0902 \\u092a\\u0930\\u093f\\u0935\\u0930\\u094d\\u0924\\u0928\\u0915\\u093e \\u0928\\u0947\\u0924\\u0943\\u0924\\u094d\\u0935 \\u0932\\u093f\\u0928\\u0938\\u0915\\u094d\\u0928\\u0947 \\u091c\\u0928\\u0936\\u0915\\u094d\\u0924\\u093f \\u0909\\u0924\\u094d\\u092a\\u093e\\u0926\\u0928 \\u0917\\u0930\\u094d\\u0928\\u0938\\u0915\\u094d\\u0928\\u0947 \\u0936\\u0948\\u0915\\u094d\\u0937\\u093f\\u0915 \\u0915\\u0947\\u0928\\u094d\\u0926\\u094d\\u0930\\u0915\\u093e \\u0930\\u0942\\u092a\\u092e\\u093e \\u0935\\u093f\\u0936\\u094d\\u0935\\u0935\\u093f\\u0926\\u094d\\u092f\\u093e\\u0932\\u092f\\u0932\\u093e\\u0908 \\u0935\\u093f\\u0915\\u093e\\u0938 \\u0917\\u0930\\u094d\\u0928\\u0941\\u092a\\u0930\\u094d\\u0928\\u0947 \\u0938\\u0941\\u091d\\u093e\\u0935 \\u0926\\u093f\\u0928\\u0941\\u092d\\u092f\\u094b \\u092a\\u094d\\u0930\\u0927\\u093e\\u0928\\u092e\\u0928\\u094d\\u0924\\u094d\\u0930\\u0940 \\u0926\\u0947\\u0909\\u0935\\u093e\\u0932\\u0947 \\u092a\\u094d\\u0930\\u0926\\u0947\\u0936 \\u0938\\u094d\\u0925\\u093e\\u092a\\u0928\\u093e \\u0939\\u0941\\u0928\\u093e\\u0932\\u0947 \\u092a\\u0942\\u0930\\u094d\\u0935\\u093e\\u091e\\u094d\\u091a\\u0932 \\u0935\\u093f\\u0936\\u094d\\u0935\\u0935\\u093f\\u0926\\u094d\\u092f\\u093e\\u0932\\u092f\\u0932\\u0947 \\u0905\\u0932\\u0948\\u0901\\u091a\\u0940 \\u091a\\u093f\\u092f\\u093e \\u0930\\u0941\\u0926\\u094d\\u0930\\u093e\\u0915\\u094d\\u0937 \\u091c\\u0948\\u0935\\u093f\\u0915 \\u0914\\u0937\\u0927\\u093f \\u091c\\u0941\\u091f \\u092b\\u0932\\u092b\\u0942\\u0932\\u0932\\u0917\\u093e\\u092f\\u0924 \\u0928\\u0947\\u092a\\u093e\\u0932\\u0915\\u094b \\u092e\\u094c\\u0932\\u093f\\u0915 \\u0909\\u0924\\u094d\\u092a\\u093e\\u0926\\u0928\\u0915\\u094b \\u0915\\u094d\\u0937\\u0947\\u0924\\u094d\\u0930\\u092e\\u093e \\u0909\\u091a\\u094d\\u091a\\u0938\\u094d\\u0924\\u0930\\u0940\\u092f \\u0936\\u094b\\u0927 \\u0905\\u0928\\u0941\\u0938\\u0928\\u094d\\u0927\\u093e\\u0928 \\u0917\\u0930\\u094d\\u0928\\u0941\\u092a\\u0930\\u094d\\u0928\\u0947 \\u0926\\u0947\\u0909\\u0935\\u093e\\u0932\\u0947 \\u092c\\u0924\\u093e\\u0909\\u0928\\u0941\\u092d\\u092f\\u094b \\u0909\\u0939\\u093e\\u0901\\u0932\\u0947 \\u0938\\u093e\\u092e\\u0917\\u094d\\u0930\\u0940\\u0915\\u094b \\u0909\\u0924\\u094d\\u092a\\u093e\\u0926\\u0928 \\u092a\\u094d\\u0930\\u0936\\u094b\\u0927\\u0928 \\u092e\\u0942\\u0932\\u094d\\u092f \\u0905\\u092d\\u093f\\u0935\\u0943\\u0926\\u094d\\u0927\\u093f \\u0905\\u0928\\u094d\\u0924\\u0930\\u094d\\u0930\\u093e\\u0937\\u094d\\u091f\\u094d\\u0930\\u093f\\u092f \\u092c\\u091c\\u093e\\u0930\\u0938\\u092e\\u094d\\u092e \\u092a\\u0941\\u092f\\u093e\\u0909\\u0928\\u0947 \\u0935\\u093f\\u0937\\u092f\\u092e\\u093e \\u0935\\u093f\\u0936\\u094d\\u0935\\u0935\\u093f\\u0926\\u094d\\u092f\\u093e\\u0932\\u092f\\u0932\\u0947 \\u0938\\u0939\\u092f\\u094b\\u0917\\u0940 \\u092d\\u0942\\u092e\\u093f\\u0915\\u093e \\u0928\\u093f\\u0930\\u094d\\u0935\\u093e\\u0939 \\u0917\\u0930\\u094d\\u0928\\u0947\\u091b \\u0935\\u093f\\u0936\\u094d\\u0935\\u093e\\u0938 \\u0938\\u092d\\u093e\\u092e\\u093e \\u0935\\u093f\\u0936\\u094d\\u0935\\u0935\\u093f\\u0926\\u094d\\u092f\\u093e\\u0932\\u092f\\u0915\\u093e \\u0909\\u092a\\u0915\\u0941\\u0932\\u092a\\u0924\\u093f \\u092a\\u094d\\u0930\\u093e\\u0927\\u094d\\u092f\\u093e\\u092a\\u0915 \\u092f\\u093e\\u0926\\u0935\\u0930\\u093e\\u091c \\u0915\\u094b\\u0907\\u0930\\u093e\\u0932\\u093e\\u0932\\u0947 \\u092a\\u094d\\u0930\\u0936\\u0938\\u094d\\u0924 \\u0938\\u092e\\u0938\\u094d\\u092f\\u093e \\u091a\\u0941\\u0928\\u094c\\u0924\\u0940\\u0915\\u093e \\u0935\\u093f\\u0936\\u094d\\u0935\\u0935\\u093f\\u0926\\u094d\\u092f\\u093e\\u0932\\u092f\\u0932\\u0947 \\u0917\\u0930\\u093f\\u0930\\u0939\\u0947\\u0915\\u094b \\u092c\\u0924\\u093e\\u0909\\u0901\\u0926\\u0948 \\u0935\\u093f\\u0936\\u094d\\u0935\\u0935\\u093f\\u0926\\u094d\\u092f\\u093e\\u0932\\u092f \\u0938\\u094d\\u0925\\u093e\\u092a\\u0928\\u093e\\u0915\\u093e\\u0932\\u0926\\u0947\\u0916\\u093f \\u0905\\u0939\\u093f\\u0932\\u0947\\u0915\\u094b \\u0905\\u0935\\u0927\\u093f\\u092e\\u093e \\u0939\\u093e\\u0938\\u093f\\u0932 \\u0909\\u092a\\u0932\\u092c\\u094d\\u0927\\u093f \\u0938\\u0928\\u094d\\u0924\\u094b\\u0937\\u091c\\u0928\\u0915 \\u0928\\u0930\\u0939\\u0947\\u0915\\u094b \\u0938\\u094d\\u0935\\u0940\\u0915\\u093e\\u0930 \\u0917\\u0930\\u094d\\u0928\\u0941\\u092d\\u092f\\u094b \\u092a\\u0942\\u0930\\u094d\\u0935\\u093e\\u091e\\u094d\\u091a\\u0932 \\u0935\\u093f\\u0936\\u094d\\u0935\\u0935\\u093f\\u0926\\u094d\\u092f\\u093e\\u0932\\u092f \\u0938\\u092e\\u0941\\u0926\\u093e\\u092f\\u092e\\u093e \\u0928\\u093e\\u0930\\u093e \\u0932\\u093f\\u090f\\u0930 \\u0936\\u0948\\u0915\\u094d\\u0937\\u093f\\u0915 \\u0915\\u093e\\u0930\\u094d\\u092f\\u0915\\u094d\\u0930\\u092e\\u0932\\u093e\\u0908 \\u0938\\u092e\\u0941\\u0926\\u093e\\u092f \\u0915\\u0947\\u0928\\u094d\\u0926\\u094d\\u0930\\u093f\\u0924 \\u092c\\u0928\\u093e\\u0909\\u0928 \\u0932\\u093e\\u0917\\u093f\\u090f\\u0915\\u094b \\u0909\\u092a\\u0915\\u0941\\u0932\\u092a\\u0924\\u093f \\u0915\\u094b\\u0907\\u0930\\u093e\\u0932\\u093e\\u0932\\u0947 \\u092c\\u0924\\u093e\\u0909\\u0928\\u0941\\u092d\\u092f\\u094b \\u0938\\u092d\\u093e\\u0932\\u0947 \\u0906\\u0930\\u094d\\u0925\\u093f\\u0915 \\u0935\\u0930\\u094d\\u0937 \\u0905\\u0930\\u094d\\u092c \\u0915\\u0930\\u094b\\u0921 \\u0930\\u0941\\u092a\\u093f\\u092f\\u093e\\u0901 \\u092c\\u091c\\u0947\\u091f \\u092a\\u093e\\u0930\\u093f\\u0924\",\n          \"\\u0909\\u092a\\u0928\\u093f\\u092f\\u092e \\u092c\\u094d\\u0930\\u092e\\u094b\\u091c\\u093f\\u092e \\u0915\\u093e\\u0930\\u094d\\u092f\\u093e\\u0932\\u092f\\u0932\\u0947 \\u0924\\u092f\\u093e\\u0930 \\u0917\\u0941\\u0923\\u0938\\u094d\\u0924\\u0930 \\u092a\\u0930\\u093f\\u0937\\u0926\\u094d\\u0926\\u094d\\u0935\\u093e\\u0930\\u093e \\u0915\\u094d\\u0930\\u0947\\u0939\\u0940 \\u092a\\u0930\\u093f\\u0935\\u0930\\u094d\\u0924\\u0924 \\u0928\\u0917\\u0930\\u0940 \\u0928\\u0947\\u092a\\u093e\\u0932 \\u0917\\u0941\\u0923\\u0938\\u094d\\u0924\\u0930\\u0915\\u094b \\u0930\\u0942\\u092a\\u092e\\u093e \\u092e\\u093e\\u0928\\u094d\\u092f\\u0924\\u093e \\u092a\\u094d\\u0930\\u0926\\u093e\\u0928 \\u0938\\u0915\\u094d\\u0928\\u0947\\u091b \\u0917\\u0941\\u0923\\u0938\\u094d\\u0924\\u0930\\u0915\\u094b \\u092a\\u094d\\u0930\\u0915\\u093e\\u0936\\u0928 \\u092c\\u093f\\u0915\\u094d\\u0930\\u0940 \\u0935\\u093f\\u0924\\u0930\\u0923 \\u094d\\u092a\\u0926\\u093e\\u0930\\u094d\\u0925 \\u092a\\u094d\\u0930\\u0915\\u094d\\u0930\\u093f\\u092f\\u093e \\u0938\\u0947\\u0935\\u093e\\u0915\\u094b \\u0938\\u092e\\u094d\\u092c\\u0928\\u094d\\u0927\\u092e\\u093e \\u092a\\u0930\\u093f\\u092a\\u0937\\u0926\\u094d\\u0926\\u094d\\u0935\\u093e\\u0930\\u093e \\u0928\\u093f\\u0930\\u094d\\u0927\\u093e\\u0930\\u0923 \\u092e\\u093e\\u0928\\u094d\\u092f\\u0924\\u093e \\u092a\\u094d\\u0930\\u093e\\u092a\\u094d\\u0924 \\u0917\\u0941\\u0923\\u0938\\u094d\\u0924\\u0930 \\u0924\\u0924\\u094d\\u0938\\u092e\\u094d\\u092c\\u0928\\u094d\\u0927\\u0940 \\u0906\\u0935\\u0936\\u094d\\u092f\\u0915 \\u0935\\u093f\\u0935\\u0930\\u0923 \\u0915\\u093e\\u0930\\u094d\\u092f\\u093e\\u0932\\u092f\\u0932\\u0947 \\u0938\\u0930\\u094d\\u0935\\u0938\\u093e\\u0927\\u093e\\u0930\\u0923\\u0915\\u094b \\u091c\\u093e\\u0928\\u0915\\u093e\\u0930\\u0940\\u0915\\u094b \\u092a\\u094d\\u0930\\u0915\\u093e\\u0936\\u093f\\u0924 \\u092c\\u093f\\u0915\\u094d\\u0930\\u0940 \\u0935\\u093f\\u0924\\u0930\\u0923 \\u0938\\u0915\\u094d\\u0928\\u0947\\u091b \\u0909\\u092a\\u0928\\u093f\\u092f\\u092e \\u092c\\u092e\\u094b\\u091c\\u093f\\u092e \\u092a\\u094d\\u0930\\u0915\\u093e\\u0936\\u093f\\u0924 \\u0917\\u0941\\u0923\\u0938\\u094d\\u0924\\u0930\\u0932\\u093e\\u0908 \\u092a\\u0930\\u093f\\u092a\\u0926\\u094d\\u0932\\u0947 \\u0938\\u0902\\u0936\\u094b\\u0927\\u0928 \\u092a\\u094d\\u0930\\u0915\\u093e\\u0936\\u093f\\u0924 \\u0917\\u0930\\u094d\\u0928\\u0947\\u091b \\u0907\\u091c\\u093e\\u091c\\u0924\\u092a\\u0924\\u094d\\u0930 \\u092a\\u094d\\u0930\\u092e\\u093e\\u0923\\u092a\\u0924\\u094d\\u0930 \\u0932\\u093f\\u0928\\u0941 \\u092a\\u0926\\u093e\\u0930\\u094d\\u0925 \\u092a\\u094d\\u0930\\u0915\\u094d\\u0930\\u093f\\u092f\\u093e\\u0915\\u094b \\u0938\\u092e\\u094d\\u092c\\u0928\\u094d\\u0927\\u092e\\u093e \\u0917\\u0941\\u0923\\u0938\\u094d\\u0924\\u0930 \\u092a\\u094d\\u0930\\u092e\\u093e\\u0923 \\u091a\\u093f\\u0928\\u094d\\u0939 \\u092a\\u094d\\u0930\\u092f\\u094b\\u0917 \\u091a\\u093e\\u0939\\u0928\\u0947 \\u094d\\u0909\\u0924\\u094d\\u092a\\u093e\\u0926\\u0915 \\u0928\\u093f\\u0930\\u094d\\u092e\\u093e\\u0924\\u093e\\u0932 \\u0905\\u0928\\u0941\\u0938\\u094d\\u091a\\u0940 \\u092a\\u094d\\u0930\\u092e\\u093e\\u0923\\u091a\\u093f\\u0928\\u094d\\u0939 \\u092a\\u094d\\u0930\\u092f\\u094b\\u0917 \\u0935\\u094d\\u092f\\u0935\\u0939\\u093e\\u0930\\u093f\\u0915 \\u0928\\u0939\\u0941\\u0928\\u0947 \\u092a\\u0926\\u093e\\u0930\\u094d\\u0925 \\u092a\\u094d\\u0930\\u0915\\u094d\\u0930\\u093f\\u092f\\u093e \\u092a\\u094d\\u0930\\u0926\\u093e\\u0928 \\u0935\\u094d\\u092f\\u0915\\u094d\\u0924\\u093f\\u0932\\u0947 \\u0905\\u0928\\u0941\\u0938\\u0942\\u091a\\u0940 \\u0935\\u092e\\u094b\\u091c\\u093f\\u092e\\u0915\\u094b \\u0922\\u093e\\u0901\\u091a\\u093e\\u092e\\u093e \\u0915\\u093e\\u0930\\u094d\\u092f\\u093e\\u0932\\u092f\\u092e\\u093e \\u0926\\u0930\\u0916\\u093e\\u0938\\u094d\\u0924 \\u0926\\u093f\\u0928\\u0941 \\u092a\\u0930\\u094d\\u0928\\u0947\\u091b \\u091c\\u093e\\u0901\\u091a\\u092c\\u0941\\u091d \\u0907\\u091c\\u093e\\u091c\\u0924\\u092a\\u0924\\u094d\\u0930 \\u092a\\u094d\\u0930\\u092e\\u093e\\u0923\\u092a\\u0924\\u094d\\u0930\\u0915\\u094b \\u0926\\u0930\\u0916\\u093e\\u0938\\u094d\\u0924 \\u092a\\u0930\\u0947\\u092a\\u091b\\u093f \\u0915\\u094d\\u0930\\u093e\\u0930\\u094d\\u092f\\u093e\\u0932\\u092f\\u0932\\u0947 \\u0926\\u0947\\u0939\\u093e\\u092f\\u0915\\u093e \\u0915\\u0941\\u0930\\u093e\\u0939\\u0930\\u0942\\u0915\\u094b \\u091c\\u093e\\u0901\\u091a\\u092f\\u0941\\u091d \\u0932\\u0917\\u093e\\u0909\\u0928 \\u0938\\u0915\\u094d\\u0928\\u0947\\u091b\"\n        ],\n        \"semantic_type\": \"\",\n        \"description\": \"\"\n      }\n    },\n    {\n      \"column\": \"label\",\n      \"properties\": {\n        \"dtype\": \"number\",\n        \"std\": 1,\n        \"min\": 0,\n        \"max\": 3,\n        \"num_unique_values\": 4,\n        \"samples\": [\n          1,\n          3,\n          2\n        ],\n        \"semantic_type\": \"\",\n        \"description\": \"\"\n      }\n    }\n  ]\n}"
            }
          },
          "metadata": {},
          "execution_count": 13
        }
      ]
    },
    {
      "cell_type": "code",
      "source": [
        "print(\"Missing values in training dataset:\")\n",
        "print(train_dataset.isnull().sum())\n",
        "\n",
        "print(\"Missing values in validation dataset:\")\n",
        "print(validation_dataset.isnull().sum())"
      ],
      "metadata": {
        "colab": {
          "base_uri": "https://localhost:8080/"
        },
        "id": "z44yRGuNrccU",
        "outputId": "1b23f9ee-bf48-4ecd-f6cf-36312de952a3"
      },
      "execution_count": 14,
      "outputs": [
        {
          "output_type": "stream",
          "name": "stdout",
          "text": [
            "Missing values in training dataset:\n",
            "data     0\n",
            "label    0\n",
            "dtype: int64\n",
            "Missing values in validation dataset:\n",
            "data     0\n",
            "label    0\n",
            "dtype: int64\n"
          ]
        }
      ]
    },
    {
      "cell_type": "code",
      "source": [
        "print(\"Data types in training dataset:\")\n",
        "print(train_dataset['data'].apply(type).value_counts())\n",
        "\n",
        "print(\"Data types in validation dataset:\")\n",
        "print(validation_dataset['data'].apply(type).value_counts())"
      ],
      "metadata": {
        "colab": {
          "base_uri": "https://localhost:8080/"
        },
        "id": "iP1axFKvvkvI",
        "outputId": "78f1c1bc-4bc8-452f-fe72-78c58c80b43d"
      },
      "execution_count": 15,
      "outputs": [
        {
          "output_type": "stream",
          "name": "stdout",
          "text": [
            "Data types in training dataset:\n",
            "data\n",
            "<class 'str'>    1561\n",
            "Name: count, dtype: int64\n",
            "Data types in validation dataset:\n",
            "data\n",
            "<class 'str'>    391\n",
            "Name: count, dtype: int64\n"
          ]
        }
      ]
    },
    {
      "cell_type": "code",
      "source": [
        "print(\"Number of duplicate rows in training dataset:\")\n",
        "print(train_dataset.duplicated().sum())\n",
        "\n",
        "print(\"Number of duplicate rows in validation dataset:\")\n",
        "print(validation_dataset.duplicated().sum())"
      ],
      "metadata": {
        "id": "-1kl2O_3wouz",
        "colab": {
          "base_uri": "https://localhost:8080/"
        },
        "outputId": "db660250-5340-4354-f06b-b1c6e687ae1a"
      },
      "execution_count": 16,
      "outputs": [
        {
          "output_type": "stream",
          "name": "stdout",
          "text": [
            "Number of duplicate rows in training dataset:\n",
            "0\n",
            "Number of duplicate rows in validation dataset:\n",
            "0\n"
          ]
        }
      ]
    },
    {
      "cell_type": "code",
      "source": [
        "print(\"Class distribution in training dataset:\")\n",
        "print(train_dataset['label'].value_counts())\n",
        "\n",
        "print(\"Class distribution in validation dataset:\")\n",
        "print(validation_dataset['label'].value_counts())"
      ],
      "metadata": {
        "colab": {
          "base_uri": "https://localhost:8080/"
        },
        "id": "Wnag9k3qrcet",
        "outputId": "00a8a161-6088-400f-dafd-338792e51eb4"
      },
      "execution_count": 17,
      "outputs": [
        {
          "output_type": "stream",
          "name": "stdout",
          "text": [
            "Class distribution in training dataset:\n",
            "label\n",
            "1    407\n",
            "3    398\n",
            "2    396\n",
            "0    360\n",
            "Name: count, dtype: int64\n",
            "Class distribution in validation dataset:\n",
            "label\n",
            "2    102\n",
            "3    100\n",
            "0     96\n",
            "1     93\n",
            "Name: count, dtype: int64\n"
          ]
        }
      ]
    },
    {
      "cell_type": "code",
      "source": [
        "fig, axes = plt.subplots(1, 2, figsize=(15, 5))\n",
        "\n",
        "train_dataset['label'].value_counts().plot(kind='bar', ax=axes[0])\n",
        "axes[0].set_title('Label Distribution in Training Dataset')\n",
        "axes[0].set_xlabel('Label')\n",
        "axes[0].set_ylabel('Count')\n",
        "\n",
        "validation_dataset['label'].value_counts().plot(kind='bar', ax=axes[1])\n",
        "axes[1].set_title('Label Distribution in Validation Dataset')\n",
        "axes[1].set_xlabel('Label')\n",
        "axes[1].set_ylabel('Count')\n",
        "\n",
        "plt.tight_layout()\n",
        "\n",
        "plt.show()"
      ],
      "metadata": {
        "colab": {
          "base_uri": "https://localhost:8080/",
          "height": 490
        },
        "id": "JYt3ykYHUW5y",
        "outputId": "525921e6-ae58-47c2-8a61-91f05e19c75c"
      },
      "execution_count": 18,
      "outputs": [
        {
          "output_type": "display_data",
          "data": {
            "text/plain": [
              "<Figure size 1500x500 with 2 Axes>"
            ],
            "image/png": "[encoded data removed]"
          },
          "metadata": {}
        }
      ]
    },
    {
      "cell_type": "code",
      "source": [
        "train_dataset['text_length'] = train_dataset['data'].apply(len)\n",
        "print(\"Text length statistics in training dataset:\")\n",
        "print(train_dataset['text_length'].describe())"
      ],
      "metadata": {
        "colab": {
          "base_uri": "https://localhost:8080/"
        },
        "id": "P4Sri3q4rpqT",
        "outputId": "fe727eba-00d2-4f00-fe95-dcb132a322e4"
      },
      "execution_count": 19,
      "outputs": [
        {
          "output_type": "stream",
          "name": "stdout",
          "text": [
            "Text length statistics in training dataset:\n",
            "count    1561.000000\n",
            "mean      799.502242\n",
            "std       547.218858\n",
            "min         0.000000\n",
            "25%       406.000000\n",
            "50%       635.000000\n",
            "75%       972.000000\n",
            "max      5354.000000\n",
            "Name: text_length, dtype: float64\n"
          ]
        }
      ]
    },
    {
      "cell_type": "markdown",
      "source": [
        "There are 357 text samples in the training dataset.\n",
        "The average length of the text samples is 673.\n",
        "388 dispersion from mean.\n",
        "The shortest text length in the train set is 105.\n",
        "The longest text length in the train set is 2442."
      ],
      "metadata": {
        "id": "_C8WkNnlw63g"
      }
    },
    {
      "cell_type": "code",
      "source": [
        "validation_dataset['text_length'] = validation_dataset['data'].apply(len)\n",
        "print(\"Text length statistics in validation dataset:\")\n",
        "print(validation_dataset['text_length'].describe())"
      ],
      "metadata": {
        "colab": {
          "base_uri": "https://localhost:8080/"
        },
        "id": "GSTX1UlKUgQa",
        "outputId": "85c18ff5-7151-4145-80f0-b2c2c1040ae7"
      },
      "execution_count": 20,
      "outputs": [
        {
          "output_type": "stream",
          "name": "stdout",
          "text": [
            "Text length statistics in validation dataset:\n",
            "count     391.000000\n",
            "mean      812.554987\n",
            "std       555.316649\n",
            "min       185.000000\n",
            "25%       412.000000\n",
            "50%       682.000000\n",
            "75%       970.500000\n",
            "max      5941.000000\n",
            "Name: text_length, dtype: float64\n"
          ]
        }
      ]
    },
    {
      "cell_type": "markdown",
      "source": [
        "# Tokenizer and vocabulary"
      ],
      "metadata": {
        "id": "V_u-s51NeaEu"
      }
    },
    {
      "cell_type": "code",
      "source": [
        "# Custom tokenizer using nepalikit\n",
        "tokenizer = Tokenizer()\n",
        "\n",
        "class CustomTokenizer:\n",
        "    def __init__(self, tokenizer, vocab=None):\n",
        "        self.tokenizer = tokenizer\n",
        "        self.vocab = vocab if vocab else {}\n",
        "\n",
        "    def build_vocab(self, texts):\n",
        "        # 0 and 1 index will be used for reserved tokens\n",
        "        index = 2\n",
        "        self.vocab['<PAD>'] = 0\n",
        "        self.vocab['<UNK>'] = 1\n",
        "        for text in texts:\n",
        "            tokens = self.tokenizer.tokenize(text, level = 'word')\n",
        "            for token in tokens:\n",
        "                if token not in self.vocab:\n",
        "                    self.vocab[token] = index\n",
        "                    index += 1\n",
        "\n",
        "    def encode(self, text, max_length):\n",
        "        tokens = self.tokenizer.tokenize(text)\n",
        "        token_ids = [self.vocab.get(token, self.vocab['<UNK>']) for token in tokens]\n",
        "        # Padding to ensure consistency\n",
        "        token_ids = token_ids[:max_length] + [self.vocab['<PAD>']] * (max_length - len(token_ids))\n",
        "        return token_ids\n",
        "\n",
        "texts = initial_dataset['data'].tolist()\n",
        "\n",
        "# Building vocabulary from the texts\n",
        "custom_tokenizer = CustomTokenizer(tokenizer)\n",
        "custom_tokenizer.build_vocab(texts)"
      ],
      "metadata": {
        "id": "tA5MOFu3onNp"
      },
      "execution_count": 21,
      "outputs": []
    },
    {
      "cell_type": "code",
      "source": [
        "print(f\"Vocabulary size: {len(custom_tokenizer.vocab)}\")"
      ],
      "metadata": {
        "colab": {
          "base_uri": "https://localhost:8080/"
        },
        "id": "CToFmNrCVCKb",
        "outputId": "a75c4ab2-c099-4dad-ca92-790bd8da2a71"
      },
      "execution_count": 22,
      "outputs": [
        {
          "output_type": "stream",
          "name": "stdout",
          "text": [
            "Vocabulary size: 31159\n"
          ]
        }
      ]
    },
    {
      "cell_type": "code",
      "source": [
        "# Printing some sample tokens and corresponding indices from the vocabulary\n",
        "print(\"Sample tokens from vocabulary:\")\n",
        "for token, idx in list(custom_tokenizer.vocab.items())[:10]:\n",
        "    print(f\"Token: {token}, Index: {idx}\")"
      ],
      "metadata": {
        "colab": {
          "base_uri": "https://localhost:8080/"
        },
        "id": "UnXkmK0dtbCf",
        "outputId": "13c883d5-f6b6-4087-ebcb-f4f9f253d7b4"
      },
      "execution_count": 23,
      "outputs": [
        {
          "output_type": "stream",
          "name": "stdout",
          "text": [
            "Sample tokens from vocabulary:\n",
            "Token: <PAD>, Index: 0\n",
            "Token: <UNK>, Index: 1\n",
            "Token: चौधरी, Index: 2\n",
            "Token: फाउण्डेसनद्वारा, Index: 3\n",
            "Token: विद्यालयमा, Index: 4\n",
            "Token: डिजिटल, Index: 5\n",
            "Token: क्लासरूम, Index: 6\n",
            "Token: शुद्ध, Index: 7\n",
            "Token: खानेपानीको, Index: 8\n",
            "Token: व्यवस्था, Index: 9\n"
          ]
        }
      ]
    },
    {
      "cell_type": "markdown",
      "source": [
        "Verifying Tokenizer"
      ],
      "metadata": {
        "id": "8FfhXesHVjAO"
      }
    },
    {
      "cell_type": "code",
      "source": [
        "sample_text = texts[0]\n",
        "\n",
        "# Encoding the sample text\n",
        "encoded_text = custom_tokenizer.encode(sample_text, max_length=50)\n",
        "print(f\"Sample text: {sample_text}\")\n",
        "print(f\"Encoded text: {encoded_text}\")\n",
        "\n",
        "# Decoding back\n",
        "def decode(tokens, vocab):\n",
        "    inv_vocab = {idx: token for token, idx in vocab.items()}\n",
        "    return ' '.join([inv_vocab.get(idx, '<UNK>') for idx in tokens])\n",
        "\n",
        "print(f\"Decoded text: {decode(encoded_text, custom_tokenizer.vocab)}\")"
      ],
      "metadata": {
        "colab": {
          "base_uri": "https://localhost:8080/"
        },
        "id": "fl-XTQqZtbFO",
        "outputId": "f8a9e65d-0bb3-4ae2-9203-80f9c1bf1880"
      },
      "execution_count": 24,
      "outputs": [
        {
          "output_type": "stream",
          "name": "stdout",
          "text": [
            "Sample text: चौधरी फाउण्डेसनद्वारा विद्यालयमा डिजिटल क्लासरूम विद्यालयमा शुद्ध खानेपानीको व्यवस्था काठमाडौं चौधरी फाउण्डेसनले विद्यालयमा डिजिटल क्लासरूमको अवधारणा कार्यान्वयनमा ल्याएको सूचना प्रविधिमा आधारित विश्वब्यापी अध्ययनअध्यापनको पहुँचमा नेपाली बालबालिका पुग्न सकून् सोंचका अवधारणा कार्यान्वयनमा ल्याइएको फाउण्डेसनले जनाएको चरणमा नवलपुरका सिन्धुपाल्चोकको विद्यालय डिजिटल क्लासरूम परियोजनाका छनौट नवलपुर देवचुली नगरपालिकास्थित शान्ति श्रृजना आधारभूत विद्यालय कावासोती नगरपालिकास्थित कालिका आधारभूत विद्यालय सिन्धुपाल्चोकको महाकाली माध्यमिक विद्यालय गिरानचौर छनौटमा परेको परियोजना अन्र्तगत चरणमा प्रत्येक विद्यालयले सातवटा ल्यापटप चारवटा डेक्सटप इन्चको एलजी टेलिभिजन प्रोजेक्टर प्राप्त डिजिटल क्लासरूमको विस्तारमा फाउण्डेसनले सहयोग जनाएको नवलपुरका विद्यालयमा स्थापित डिजिटल क्लास रूमको शनिवार छुट्टाछुट्टै उद्घाटन सीजीका अध्यक्ष एवं सांसद विनोद चौधरीले विश्वमा साक्षरताको परिभाषा परिवर्तन कम्प्युटर शिक्षा अंग्रेजी भाषाको ज्ञान व्यक्तिलाई साक्षर मान्ने प्रचलन विकास सरकारी विद्यालयबाट अभियान शुरू गरिएको जानकारी दिदै अध्यक्ष चौधरीले अवसरबाट बन्चित बालबालिकासमक्ष प्रस्तुत गरिएका यस्ता कार्यक्रम प्रभावकारी सावित विश्वास ब्यक्त डिजिटल क्लासरूम संचालन गरिएका विद्यालयसहित विद्यालयमा शुद्ध खानेपानीको व्यवस्था मिलाईएको अध्यक्ष चौधरीले परियोजनाको उद्घाटन शुद्ध खानेपानी प्रणाली विद्यालयहरूलाई हस्तान्तरण\n",
            "Encoded text: [2, 3, 4, 5, 6, 4, 7, 8, 9, 10, 2, 11, 4, 5, 12, 13, 14, 15, 16, 17, 18, 19, 20, 21, 22, 23, 24, 25, 26, 13, 14, 27, 11, 28, 29, 30, 31, 32, 5, 6, 33, 34, 35, 36, 37, 38, 39, 40, 32, 41]\n",
            "Decoded text: चौधरी फाउण्डेसनद्वारा विद्यालयमा डिजिटल क्लासरूम विद्यालयमा शुद्ध खानेपानीको व्यवस्था काठमाडौं चौधरी फाउण्डेसनले विद्यालयमा डिजिटल क्लासरूमको अवधारणा कार्यान्वयनमा ल्याएको सूचना प्रविधिमा आधारित विश्वब्यापी अध्ययनअध्यापनको पहुँचमा नेपाली बालबालिका पुग्न सकून् सोंचका अवधारणा कार्यान्वयनमा ल्याइएको फाउण्डेसनले जनाएको चरणमा नवलपुरका सिन्धुपाल्चोकको विद्यालय डिजिटल क्लासरूम परियोजनाका छनौट नवलपुर देवचुली नगरपालिकास्थित शान्ति श्रृजना आधारभूत विद्यालय कावासोती\n"
          ]
        }
      ]
    },
    {
      "cell_type": "code",
      "source": [
        "# Printing sample text and corresponding encoding with label\n",
        "\n",
        "for _ in range(3):\n",
        "    idx = random.randint(0, len(texts) - 1)\n",
        "    encoded_label = initial_dataset['label'].iloc[idx]\n",
        "    class_name = label_encoder.inverse_transform([encoded_label])[0]\n",
        "    print(f\"Sample text: {texts[idx]}\")\n",
        "    print(f\"Encoded text: {custom_tokenizer.encode(texts[idx], max_length=50)}\")\n",
        "    print(f\"Class: {class_name}\")\n",
        "    print(\"-\" * 50)"
      ],
      "metadata": {
        "id": "e0kLzEx9tbP0",
        "colab": {
          "base_uri": "https://localhost:8080/"
        },
        "outputId": "20575d68-bbd3-4b7a-c9f1-f2128edc8c32"
      },
      "execution_count": 25,
      "outputs": [
        {
          "output_type": "stream",
          "name": "stdout",
          "text": [
            "Sample text: उपनियम वमोजिम प्रारम्भिक पर्वतारोहण अनुमति पाएको पर्वतारोही दलले नियम बमोजिम बाँकी सलामी रक्रम बुझाएमा रकम बुझाएको दिनभित्र मन्त्रालयले उपनियम बमोजिम अनुमति दिनेछ मिटर क्रम उचाई नियम उपनियम खण्ड वमोजिमका हिमालचुली हिमालचुली आरोहण प्रारम्भिक पर्वतारोहण अनुमति पाएको पर्वतारोही दलले दलका सदस्यमा हेरफेर थपछट उपनियम वमोजिम अनुमति प्राप्त पर्वतारोही दलले पर्वतारोहण जानु मन्त्रालयले पर्वतारोहण सम्वन्धी जानकारी त्रिफिड लिनु पर्नेछ पर्वतारोहणको तिर्न सलामी रकम अवधि पर्वतारोही दलले पर्वतारोहण तिर्नु सलामी रकम अनुसूची उल्लेख बमोजिम प्रारम्भिक पर्वतारोहण अनुमति पाएको पर्वतारोही दलले बाँकी सलामी रकम अनुमति पाएको मितिले वर्षभित्र बुझाउनु पर्नेछ पर्वतारोही दलले उपनियम बमोजिमको म्यादभित्र वाँकी सलामी रकम पुर् पकिने पर्वतारोही दलले पर्वतारोहण अभियान सारन अनुममिमा उल्लिखित सिमालचुली परिव्तन चाहेमा पर्वतारोहण अभियान शुरु पर्वतारोहण सम्वन्धी कार्यक्रम सहितको अवधि उल्लेख परिवर्तन हिमालचुली निश्चित अनुमतिको मन्त्रालय समक्ष दरखास्त दिनु पर्नेछ उपनियम बमोजिम पर्वतारोहा अभियान सार्न चाहने पर्वतारोही सक्नेछ\n",
            "Encoded text: [17236, 16436, 9242, 27691, 1303, 3330, 28245, 7319, 556, 1263, 1520, 28249, 26206, 30620, 1878, 4807, 3221, 1596, 17236, 1263, 1303, 4126, 10747, 1384, 30621, 556, 17236, 17069, 21734, 30597, 30597, 30598, 9242, 27691, 1303, 3330, 28245, 7319, 6767, 3560, 27072, 30622, 17236, 16436, 1303, 60, 28245, 7319, 27691, 9893]\n",
            "Class: Policy\n",
            "--------------------------------------------------\n",
            "Sample text: स्याङ्जा साउन विद्यालयमा अध्ययनरत बालिकाहरुलाई बाल यौन दुराचार आरोपमा चापाकोट नगरपालिकामा अवस्थित विद्यालयका प्रध्यानाध्यापक चण्डीश्वर गैहेलाई प्रहरीले पक्राउ विद्यालयमा कक्षा चारमा अध्ययनरत बालिकाहरु प्रअको यौन दुराचारबाट पीडित प्रअ गैहेले विगत बर्षदेखि पालैपालो अफिस कोठामा पढाउने बाहानामा बालिकाहरुलाई यौनदुराचार पीडित बालिकाहरुले शुक्रबार आफ्ना छोरीहरु विद्यालय नमानेपछि अभिभावकले बालिकालाई विद्यालय नजाने भनि प्रश्न थालेपछि घटना घटनालाई लिएर शनिवार समुदायका अभिभावकहरु भेला सवालमा भनि छलफल प्रहरीमा उजुरी पीडक शिक्षकलाई कारबाही निर्णयमा पुगेपछि अभिभावकहरु चापाकोट प्रहरी चौकीमा पुगेका प्रहरी चौकीले बाल यौन दुराचारको सवालमा प्रमाण नहुँदासम्म व्यक्ति पक्राउ नसक्ने भनेपछि अभिभावकहरुले पीडक शिक्षकलाई पक्राउ प्रहरी चौकीमा बुझाएको अभिभावकहरुले यहि आइतबार पीडित बालिकाहरु अभिभावकहरु पीडक शिक्षक जिल्ला प्रहरी कार्यालयमा ल्याएपछि सोमबार पीडक शिक्षकलाई जबरजस्ती करणी उद्योगमा मुद्दा चलाउने तयारी गरिएको पीडक शिक्षकले बर्ष सम्मका बालिकाहरुलाई नियमित आफ्ना यौन अंग चलाउन लगाउने बालिकाको यौन अंग संवेदनशिल अंग चलाउने भनेमा कडा दण्ड दिने हुदाँ आफूहरुले अभिभावकहरुलाई नभनेको पीडित बालिकाहरुले विषयलाई लिएर जिल्ला प्रहरी कार्यालयमा बुझ्दाखेरी मुद्दा दर्ताको प्रक्रियामा प्रहरी नायब उपरीक्षक राजकुमार वैदवार बताउँछन् जिल्ला बाल कल्याण समितिका बाल अधिकार अधिकृत बद्री प्रसाद वाग्लेले बाल बालिकाको सवाल अत्यन्त संवेदनशिल विषय बालिकाहरु नियमित यौन दुराचारमा परेको हुदाँ बालिकाहरुको संरक्षणमा आवश्यक कानुन सहयोग उपलब्ध गराउने बताउँदै सवालमा गहिरो तरिकाले अनुसन्धान बालिकाहरुको परिवारसँग नियमित सम्पर्कमा रहि कानुनी प्रक्रियाअनुसार बढ्ने बाल अधिकार अधिकृत वाग्लेले\n",
            "Encoded text: [6132, 364, 4, 135, 6133, 2011, 6134, 6135, 2267, 6136, 1457, 3176, 308, 5240, 6137, 6138, 2275, 2250, 4, 160, 6139, 135, 6140, 6141, 6134, 6142, 2281, 1417, 6143, 1360, 6144, 6145, 6146, 5251, 218, 6147, 6133, 6148, 2281, 6149, 1653, 4281, 6150, 32, 6151, 1013, 4526, 32, 6152, 6153]\n",
            "Class: Education\n",
            "--------------------------------------------------\n",
            "Sample text: प्रेस विज्ञप्ति काठमाडौँ जेठ गते वातावरण मन्त्रालयले मिलेनियम च्यालेञ्ज एकाउण्ट नेपाल विकास समिति एमसिए लगानीवाट काययान्वयन गरिने विद्युत् प्रसारण आयोजनाको वातावरणीय प्रभाव मूल्याङ्कन प्रतिवेदन स्वीकृत नेपाल सरकारको मन्त्रिस्तरीय निर्णयबाट साल वैशाख गते स्वीकृत गरिएको बातावरणीय प्रभाव मूल्याङ्कन प्रतिवेदन बिद्युत् प्रसारण आयोजना प्रसारण लाइन पूर्वशत हासिल गर्नेसन्दभमा उपलब्धि महत्वपूण कोशेद्ुङ्गा एमसिए नेपालका त्रर आर्थिक सांस्कृतिक वबातावरणको वतमान पहिनच्रान सम्भावित प्रभाव न्यूनीकरणका अपनाउनुपर्ने उपायहरूवारे सुझावहरू प्रस्तुत नेपालको प्रच्रलित कानुन विस्तृत नस्वपमा तयार गरिएको वातावरणीय प्रभाव मूल्याङ्गन प्रतिवेदन नेपालको वातावरण संरक्षण वातावरण संरक्षण नियमावली वातावरणीय प्रभाव मूल्याङइनका क्रममा तथ्याङ्क सइ्कलन विश्लेषणका सघन कार्यविधि आधारमा प्रतिवेदनले नकारात्मक प्रभावहरू पर्न नदिन न्यूनीकरण व्यवस्थापन आयोजनाका फाइदा अभिवद्धि गर्नका विभिन्न उपायहरू प्रस्ताव वातावरण संरक्षण प्रावधान वातावरणीय प्रभाव मूल्याइन प्रतिवेदनले आयोजना कायान्वयनका क्रममा प्रभावित कामदारहर्ू समुदायहरूको सुरक्षा सुनिश्च्चित\n",
            "Encoded text: [359, 11948, 1061, 1601, 117, 220, 1596, 17574, 17575, 19523, 404, 88, 993, 17596, 22488, 22489, 1731, 15843, 15712, 14526, 11674, 1847, 3224, 2344, 828, 404, 416, 21068, 6457, 795, 3059, 117, 828, 93, 17752, 1847, 3224, 2344, 22490, 15712, 1079, 15712, 9211, 22491, 147, 22492, 4170, 17637, 22493, 17596]\n",
            "Class: Press_Release\n",
            "--------------------------------------------------\n"
          ]
        }
      ]
    },
    {
      "cell_type": "markdown",
      "source": [
        "# Custom Dataset Class"
      ],
      "metadata": {
        "id": "zuQM78a1eke4"
      }
    },
    {
      "cell_type": "code",
      "source": [
        "max_length = 256\n",
        "\n",
        "class CustomTextDataset(Dataset):\n",
        "    def __init__(self, dataframe, tokenizer, max_length):\n",
        "        self.texts = dataframe['data'].tolist()\n",
        "        self.labels = dataframe['label'].tolist()\n",
        "        self.tokenizer = tokenizer\n",
        "        self.max_length = max_length\n",
        "\n",
        "    def __len__(self):\n",
        "        return len(self.texts)\n",
        "\n",
        "    def __getitem__(self, idx):\n",
        "        # Actual  text\n",
        "        text = self.texts[idx]\n",
        "        # Class labels for text\n",
        "        label = self.labels[idx]\n",
        "        # Vectorized text\n",
        "        input_ids = torch.tensor(self.tokenizer.encode(text, self.max_length), dtype=torch.long)\n",
        "        # tokens not equal to the padding token get a mask value of 1, and padding tokens get a mask value of 0.\n",
        "        # This is beacuse we want to prevent padding tokens from contributing to training\n",
        "        padding_mask = (input_ids != custom_tokenizer.vocab['<PAD>']).long()\n",
        "        return {\n",
        "            'input_ids': input_ids,\n",
        "            'padding_mask': padding_mask,\n",
        "            'labels': torch.tensor(label, dtype=torch.long)\n",
        "        }"
      ],
      "metadata": {
        "id": "RwaNNWfFh9El"
      },
      "execution_count": 26,
      "outputs": []
    },
    {
      "cell_type": "markdown",
      "source": [
        "# Data loader for training and validation"
      ],
      "metadata": {
        "id": "J6An89_fep55"
      }
    },
    {
      "cell_type": "code",
      "source": [
        "train_dataset = CustomTextDataset(train_dataset, custom_tokenizer, max_length)\n",
        "validation_dataset = CustomTextDataset(validation_dataset, custom_tokenizer, max_length)\n",
        "\n",
        "train_dataloader = DataLoader(train_dataset, batch_size=32, shuffle=True)\n",
        "validation_dataloader = DataLoader(validation_dataset, batch_size=32)"
      ],
      "metadata": {
        "id": "PO3CGk4Tw6V2"
      },
      "execution_count": 27,
      "outputs": []
    },
    {
      "cell_type": "markdown",
      "source": [
        "# Model Definition using LSTM"
      ],
      "metadata": {
        "id": "IB6HDRioev8j"
      }
    },
    {
      "cell_type": "code",
      "source": [
        "vocab_size = len(custom_tokenizer.vocab)\n",
        "\n",
        "class CustomLSTMClassifier(nn.Module):\n",
        "    def __init__(self, vocab_size, embedding_dim, hidden_dim, output_dim, dropout=0.5):\n",
        "        super(CustomLSTMClassifier, self).__init__()\n",
        "        self.embedding = nn.Embedding(vocab_size, embedding_dim)\n",
        "        self.lstm = nn.LSTM(embedding_dim, hidden_dim, num_layers=2, batch_first=True, dropout=dropout, bidirectional=True)\n",
        "        self.fc = nn.Linear(hidden_dim * 2, output_dim)\n",
        "        self.dropout = nn.Dropout(dropout)\n",
        "\n",
        "    def forward(self, input_ids, padding_mask):\n",
        "        embedded = self.embedding(input_ids)\n",
        "        lstm_out, _ = self.lstm(embedded)\n",
        "        lstm_out = lstm_out * padding_mask.unsqueeze(-1)\n",
        "        mask_sum = padding_mask.sum(dim=1, keepdim=True).clamp(min=1e-9)\n",
        "        pooled_output = torch.sum(lstm_out, dim=1) / mask_sum\n",
        "        dropped_out = self.dropout(pooled_output)\n",
        "        return self.fc(dropped_out)"
      ],
      "metadata": {
        "id": "sHyuviYinNkV"
      },
      "execution_count": 28,
      "outputs": []
    },
    {
      "cell_type": "markdown",
      "source": [
        "# Training and Validation loop"
      ],
      "metadata": {
        "id": "W-uGT2C_e5MR"
      }
    },
    {
      "cell_type": "code",
      "source": [
        "from sklearn.metrics import accuracy_score, f1_score\n",
        "\n",
        "model = CustomLSTMClassifier(vocab_size=vocab_size, embedding_dim=25, hidden_dim=4, output_dim=num_classes)\n",
        "\n",
        "device = torch.device('cuda' if torch.cuda.is_available() else 'cpu')\n",
        "model.to(device)\n",
        "\n",
        "criterion = nn.CrossEntropyLoss()\n",
        "optimizer = optim.Adam(model.parameters(), lr=0.001, weight_decay=1e-5)\n",
        "\n",
        "train_losses, val_losses = [], []\n",
        "train_accuracies, val_accuracies = [], []\n",
        "train_f1_scores, val_f1_scores = [], []\n",
        "\n",
        "def train_epoch(model, dataloader, criterion, optimizer, device):\n",
        "    model.train()\n",
        "    epoch_loss = 0\n",
        "    all_preds = []\n",
        "    all_labels = []\n",
        "\n",
        "    for batch in dataloader:\n",
        "        input_ids = batch['input_ids'].to(device)\n",
        "        padding_mask = batch['padding_mask'].to(device)\n",
        "        labels = batch['labels'].to(device)\n",
        "\n",
        "        optimizer.zero_grad()\n",
        "        outputs = model(input_ids, padding_mask)\n",
        "        loss = criterion(outputs, labels)\n",
        "        loss.backward()\n",
        "        optimizer.step()\n",
        "\n",
        "        epoch_loss += loss.item()\n",
        "        _, predicted = torch.max(outputs, 1)\n",
        "        all_preds.extend(predicted.cpu().numpy())\n",
        "        all_labels.extend(labels.cpu().numpy())\n",
        "\n",
        "    epoch_acc = accuracy_score(all_labels, all_preds)\n",
        "    epoch_f1 = f1_score(all_labels, all_preds, average='weighted')\n",
        "\n",
        "    return epoch_loss / len(dataloader), epoch_acc, epoch_f1\n",
        "\n",
        "def evaluate(model, dataloader, criterion, device):\n",
        "    model.eval()\n",
        "    epoch_loss = 0\n",
        "    all_preds = []\n",
        "    all_labels = []\n",
        "\n",
        "    with torch.no_grad():\n",
        "        for batch in dataloader:\n",
        "            input_ids = batch['input_ids'].to(device)\n",
        "            padding_mask = batch['padding_mask'].to(device)\n",
        "            labels = batch['labels'].to(device)\n",
        "\n",
        "            outputs = model(input_ids, padding_mask)\n",
        "            loss = criterion(outputs, labels)\n",
        "\n",
        "            epoch_loss += loss.item()\n",
        "            _, predicted = torch.max(outputs, 1)\n",
        "            all_preds.extend(predicted.cpu().numpy())\n",
        "            all_labels.extend(labels.cpu().numpy())\n",
        "\n",
        "    epoch_acc = accuracy_score(all_labels, all_preds)\n",
        "    epoch_f1 = f1_score(all_labels, all_preds, average='weighted')\n",
        "\n",
        "    return epoch_loss / len(dataloader), epoch_acc, epoch_f1\n",
        "\n",
        "\n",
        "num_epochs = 20\n",
        "for epoch in range(num_epochs):\n",
        "    train_loss, train_acc, train_f1 = train_epoch(model, train_dataloader, criterion, optimizer, device)\n",
        "    val_loss, val_acc, val_f1 = evaluate(model, validation_dataloader, criterion, device)\n",
        "\n",
        "    train_losses.append(train_loss)\n",
        "    val_losses.append(val_loss)\n",
        "    train_accuracies.append(train_acc)\n",
        "    val_accuracies.append(val_acc)\n",
        "    train_f1_scores.append(train_f1)\n",
        "    val_f1_scores.append(val_f1)\n",
        "\n",
        "    print(f'Epoch {epoch+1}/{num_epochs} | '\n",
        "          f'Train Loss: {train_loss:.4f}, Train Acc: {train_acc:.4f}, Train F1: {train_f1:.4f} | '\n",
        "          f'Val Loss: {val_loss:.4f}, Val Acc: {val_acc:.4f}, Val F1: {val_f1:.4f}')"
      ],
      "metadata": {
        "colab": {
          "base_uri": "https://localhost:8080/"
        },
        "id": "o-eNfVCITR-M",
        "outputId": "0d879214-1e76-4156-b780-5d3a82a0f6e2"
      },
      "execution_count": 30,
      "outputs": [
        {
          "output_type": "stream",
          "name": "stdout",
          "text": [
            "Epoch 1/20 | Train Loss: 1.4208, Train Acc: 0.2530, Train F1: 0.1675 | Val Loss: 1.3874, Val Acc: 0.2558, Val F1: 0.1361\n",
            "Epoch 2/20 | Train Loss: 1.3839, Train Acc: 0.2479, Train F1: 0.1711 | Val Loss: 1.3449, Val Acc: 0.3504, Val F1: 0.2456\n",
            "Epoch 3/20 | Train Loss: 1.3072, Train Acc: 0.4138, Train F1: 0.3882 | Val Loss: 1.2175, Val Acc: 0.6061, Val F1: 0.5309\n",
            "Epoch 4/20 | Train Loss: 1.1603, Train Acc: 0.5003, Train F1: 0.4569 | Val Loss: 1.0373, Val Acc: 0.5320, Val F1: 0.4351\n",
            "Epoch 5/20 | Train Loss: 1.0047, Train Acc: 0.5990, Train F1: 0.5672 | Val Loss: 0.9018, Val Acc: 0.6113, Val F1: 0.5682\n",
            "Epoch 6/20 | Train Loss: 0.8839, Train Acc: 0.6912, Train F1: 0.6764 | Val Loss: 0.7722, Val Acc: 0.7980, Val F1: 0.7873\n",
            "Epoch 7/20 | Train Loss: 0.7495, Train Acc: 0.7732, Train F1: 0.7657 | Val Loss: 0.6150, Val Acc: 0.8568, Val F1: 0.8519\n",
            "Epoch 8/20 | Train Loss: 0.6331, Train Acc: 0.8258, Train F1: 0.8204 | Val Loss: 0.4916, Val Acc: 0.9028, Val F1: 0.9020\n",
            "Epoch 9/20 | Train Loss: 0.5246, Train Acc: 0.8732, Train F1: 0.8702 | Val Loss: 0.4225, Val Acc: 0.9130, Val F1: 0.9125\n",
            "Epoch 10/20 | Train Loss: 0.4572, Train Acc: 0.8917, Train F1: 0.8897 | Val Loss: 0.3580, Val Acc: 0.9207, Val F1: 0.9204\n",
            "Epoch 11/20 | Train Loss: 0.3999, Train Acc: 0.9039, Train F1: 0.9024 | Val Loss: 0.2956, Val Acc: 0.9284, Val F1: 0.9282\n",
            "Epoch 12/20 | Train Loss: 0.3589, Train Acc: 0.9167, Train F1: 0.9162 | Val Loss: 0.2734, Val Acc: 0.9284, Val F1: 0.9280\n",
            "Epoch 13/20 | Train Loss: 0.3184, Train Acc: 0.9238, Train F1: 0.9236 | Val Loss: 0.2342, Val Acc: 0.9412, Val F1: 0.9410\n",
            "Epoch 14/20 | Train Loss: 0.2834, Train Acc: 0.9308, Train F1: 0.9308 | Val Loss: 0.2054, Val Acc: 0.9463, Val F1: 0.9464\n",
            "Epoch 15/20 | Train Loss: 0.2539, Train Acc: 0.9327, Train F1: 0.9329 | Val Loss: 0.1867, Val Acc: 0.9463, Val F1: 0.9464\n",
            "Epoch 16/20 | Train Loss: 0.2375, Train Acc: 0.9404, Train F1: 0.9406 | Val Loss: 0.1970, Val Acc: 0.9412, Val F1: 0.9409\n",
            "Epoch 17/20 | Train Loss: 0.2408, Train Acc: 0.9270, Train F1: 0.9273 | Val Loss: 0.1788, Val Acc: 0.9437, Val F1: 0.9437\n",
            "Epoch 18/20 | Train Loss: 0.2206, Train Acc: 0.9315, Train F1: 0.9316 | Val Loss: 0.1607, Val Acc: 0.9463, Val F1: 0.9463\n",
            "Epoch 19/20 | Train Loss: 0.2200, Train Acc: 0.9270, Train F1: 0.9274 | Val Loss: 0.1515, Val Acc: 0.9514, Val F1: 0.9513\n",
            "Epoch 20/20 | Train Loss: 0.1958, Train Acc: 0.9404, Train F1: 0.9407 | Val Loss: 0.1361, Val Acc: 0.9642, Val F1: 0.9642\n"
          ]
        }
      ]
    },
    {
      "cell_type": "code",
      "source": [
        "epochs = range(1, num_epochs + 1)\n",
        "\n",
        "plt.figure(figsize=(12, 8))\n",
        "\n",
        "plt.subplot(2, 2, 1)\n",
        "plt.plot(epochs, train_losses, label='Training Loss')\n",
        "plt.plot(epochs, val_losses, label='Validation Loss')\n",
        "plt.title('Loss over Epochs')\n",
        "plt.xlabel('Epochs')\n",
        "plt.ylabel('Loss')\n",
        "plt.legend()\n",
        "\n",
        "plt.subplot(2, 2, 2)\n",
        "plt.plot(epochs, train_accuracies, label='Training Accuracy')\n",
        "plt.plot(epochs, val_accuracies, label='Validation Accuracy')\n",
        "plt.title('Accuracy over Epochs')\n",
        "plt.xlabel('Epochs')\n",
        "plt.ylabel('Accuracy')\n",
        "plt.legend()\n",
        "\n",
        "plt.subplot(2, 2, 3)\n",
        "plt.plot(epochs, train_f1_scores, label='Training F1 Score')\n",
        "plt.plot(epochs, val_f1_scores, label='Validation F1 Score')\n",
        "plt.title('F1 Score over Epochs')\n",
        "plt.xlabel('Epochs')\n",
        "plt.ylabel('F1 Score')\n",
        "plt.legend()\n",
        "\n",
        "plt.tight_layout()\n",
        "plt.show()"
      ],
      "metadata": {
        "colab": {
          "base_uri": "https://localhost:8080/",
          "height": 807
        },
        "id": "q-MzqKYGT4Ca",
        "outputId": "eb88cd92-4d42-4b71-f565-310280388aec"
      },
      "execution_count": 31,
      "outputs": [
        {
          "output_type": "display_data",
          "data": {
            "text/plain": [
              "<Figure size 1200x800 with 3 Axes>"
            ],
            "image/png": "[encoded data removed]"
          },
          "metadata": {}
        }
      ]
    },
    {
      "cell_type": "markdown",
      "source": [
        "# Sample predictions from Validation set"
      ],
      "metadata": {
        "id": "KT3aYwtre8Vw"
      }
    },
    {
      "cell_type": "code",
      "source": [
        "def predict_with_texts(model, dataloader, dataset, device):\n",
        "    model.eval()\n",
        "    predictions = []\n",
        "    true_labels = []\n",
        "    texts = []\n",
        "\n",
        "    with torch.no_grad():\n",
        "        for i, batch in enumerate(dataloader):\n",
        "            input_ids = batch['input_ids'].to(device)\n",
        "            padding_mask = batch['padding_mask'].to(device)\n",
        "            labels = batch['labels'].to(device)\n",
        "\n",
        "            outputs = model(input_ids, padding_mask)\n",
        "            _, predicted = torch.max(outputs, 1)\n",
        "\n",
        "            predictions.extend(predicted.cpu().numpy())\n",
        "            true_labels.extend(labels.cpu().numpy())\n",
        "\n",
        "            batch_texts = dataset.texts[i * dataloader.batch_size : min((i + 1) * dataloader.batch_size, len(dataset))]\n",
        "            texts.extend(batch_texts)\n",
        "\n",
        "    return true_labels, predictions, texts\n",
        "\n",
        "true_labels, predictions, texts = predict_with_texts(model, validation_dataloader, validation_dataset, device)\n",
        "\n",
        "for i in range(10):\n",
        "    print(f\"Text: {texts[i]}\")\n",
        "    print(f\"True Class: {label_encoder.inverse_transform([true_labels[i]])[0]}\")\n",
        "    print(f\"Predicted Class: {label_encoder.inverse_transform([predictions[i]])[0]}\")\n",
        "    print()"
      ],
      "metadata": {
        "colab": {
          "base_uri": "https://localhost:8080/"
        },
        "id": "fyWSQAW5ie5U",
        "outputId": "26cb69c2-3867-4243-ddb4-8e8fcdafa20f"
      },
      "execution_count": 33,
      "outputs": [
        {
          "output_type": "stream",
          "name": "stdout",
          "text": [
            "Text: राजश्व न्यायाधिकरणमा रिक्त पदहरूका कार्यालयका कर्मचारीहरू पुनरावेदन अदालत अदालतको क्षेत्र जिल्ला जिल्ला अदालतमा रिक्त राजपत्र अनड्रित प्रथम श्रणी त्राहेक कर्मचारीहरू कार्यरत कर्मचारीहरू नियमहरू प्रारम्भ हुँदाका बखत सेवामा कार्यरत राजपत्र अन्रित उपनियम जुनसुकै लेखिएको पूर्ति प्रतिशत\n",
            "True Class: Policy\n",
            "Predicted Class: Policy\n",
            "\n",
            "Text: नेपाल सरकार गृह मन्त्रालय जिल्ला प्रशासन कार्यालय अर्घाखाँची नेपाली नागरिकताको प्रमाणपत्र नाप्रनं नाम सुष्मिता बस्नेत लिङ्ग पुरुष जन्म स्थान जिल्ला अर्घाखाँची गावि सन्धिखर्क नगरपालिका वडा स्थायी बासस्थान जिल्ला ताप्लेजुङ नपा मैवाखोला गाउँपालिका वडा जन्म मिति साल महिना गते बाबुको नाम सुस्मिता बस्नेत नाप्रनं ठेगाना ताप्लेजुङ नपा वंशज आमाको नाम सुकृति अधिकारी नाप्रनं ठेगाना अर्घाखाँची नपा वंशज प॒तिपत्नीको नामथर नाप्रनं ठेगाना\n",
            "True Class: ID\n",
            "Predicted Class: ID\n",
            "\n",
            "Text: ग्र्ट उपनियम वमोजिम जम्मा रकम सम्वन्धित ठेकेदार आपूर्तिकर्ताले बुझाउनु करमा मिलान पाउनेछ कारोबार गराउनु विशेष व्यक्तिको वार्षिक कारोबार वस्तु ढुवानी साधन भाडा ढुवानी सेवाको हकमा पतच्रास रुपैयाँसम्म बस्तु सेवा भएमा खुलाइ अनुसूची बमोजिमको ढाँचामा कारोबार गर्नको सम्बन्धित अधिकृतसमक्ष दरखास्त दिनु पर्नेछ उपनियम बमोजिम अनुमान सक्रिने नभे रुपैयाँसम्म वस्तु सेवा मिश्रित कारोबार सेवा व्यवसायको हक्रमा वीस रुपैयाँ वमोजिमको ढाँचामा कारोतार गर्नको सम्बन्धित क्रर अधिकृत समक्ष दरखास्त दिनु पर्नेछ ऐनको दफा उपदफा व्रमोजिम गर्नुपर्ने वस्तु सेवाको पर्नेछ अधिकृतले निरीक्षण गर्दाका बखत कारोबार व्यक्तिसँग आटौं संशोधनद्वारा नवौं संशोधनद्वारा संशोधित\n",
            "True Class: Policy\n",
            "Predicted Class: Policy\n",
            "\n",
            "Text: भन्सार नाकामा निरीक्षणः नियम बरमोजिम सम्वन्धित भन्सार क्रार्यालयले ठानेमा निरीक्षण सक्नेछ डिलरले नाम गराउनु नियमावली बमोजिम पैठारीकर्ताबाट गराई पदार्थ बिक्री वितरण स्वीकृति लिनु पर्नेछ डिलरले पदार्थ बिक्री वितरण सम्वरन्धमा मन्त्रालयल डिलरले परदार्य खरीद क्रेतालाई बिक्री वितरण विवरण पेश अनुसूची बरमोजिमको ढाँचामा तयार पारिएको विवरण महिनामा बेच्ने पैठारीकर्ता आफ्ना क्रेताको नाम टेगाना क्रेताले निर्धारित ढाँचामा तयार पेश पर्नेछ पदार्थ खरीद क्रताल आफूले खरीद पदार्थको स्पसिफिक्रेशन परिमाण किसिम मौज्दात पदार्थ प्रयोजनको खरीद प्रयोजनको उपभोग नगरेको विवरण मन्त्रालयले मागेको बखत उपलव्ध गराउनु पर्नेछ निर्धारित प्रयोजन बमोजिम उपभोग गर्नुपर्ने व्यक्ति फर्म संस्थाले प्रयोजनको उपभोग पाउने निर्धारित प्रयोजन प्रयोजनको पदार्थको उपभाग पैठारीकर्ता खरीदकर्तालाई प्रचलित कानून बमोजिम कारबाही गरिनेछ\n",
            "True Class: Policy\n",
            "Predicted Class: Press_Release\n",
            "\n",
            "Text: बल्खु त्रिभुवन विश्वविद्यालय विज्ञान प्रविधि अध्ययन संस्थान डीनको कार्यालय परीक्षा शाखा वल्खुद्वारा सेमेष्टर परीक्षा प्रणाली साल चैत्र महिनामा संचालन वर्षे स्नातक कम्प्यूटर विज्ञान सुचना प्रविधि विषय वर्ष शत्र समूहको नियमित शकत्रको अगाडिका समूहको आंशिक परीक्षाको परीक्षाफल विज्ञान प्रविधि अध्ययन संस्थान परीक्षा संचालक समितिको निर्णयानुसार प्रकाशित गरिएको परीक्षामा निम्नाकित कमांक परीक्षार्थीहरु उत्तीर्ण वर्षे स्नातक कम्प्यूटर विज्ञान सूचना प्रविधि वर्ष शत्र\n",
            "True Class: Education\n",
            "Predicted Class: Education\n",
            "\n",
            "Text: विराटनगर माघ गते नेपाली कांग्रेसका केन्द्रीय सदस्य एवं विराटनगर महानगरपालिकाका प्रमुख भीम पराजुलीले नगर क्षेत्रका सरकारी विद्यालयलाई सुधार पठनपाठनको वातावरण तयार बताउनुभएको उहाँले कतिपय विद्यालयका पूर्वाधार जीर्ण शिक्षाको क्षेत्रमा नराम्रो प्रभाव परेको त्यस्ता विद्यालयलाई नगरप्रमुख भइसकेपछि सुधार नगर क्षेत्रको शैक्षिक क्षेत्रमा प्रगति भएकामा खुशी व्यक्त गर्नुभयो सञ्चारकर्मीसँगको भेटघाटमा उहाँले नगर क्षेत्रमा अहिलेसम्म किमी बाटोमा कालोपत्र भइसकेको प्रायः वडा कार्यालयको भवन निर्माण नगरपालिकाले वितरण सेवामा लाभग्राहीलाई सहज बताउनुभयो विराटनगर क्षेत्रमा वीरेन्द्र सभागृहलाई अत्याधुनिक बनाउन गरिएको काममा प्रतिशत प्रगति बताउँदै नगरप्रमुख पराजुलीले विराटनगरको महेन्द्र चोकबाट पूर्वको बाटो विमानस्थलमार्गलाई इभिनिङ स्ट्रिट बनाई त्यसक्षेत्रका होटल पसल एवं रेस्टुरेन्ट रातभरि सञ्चालनमा ल्याउने तयारी जानकारी दिनुभयो प्रधानमन्त्री इतिहास बोकेको विराटनगरमा निकट भविष्यमै प्रधानमन्त्री उद्यान बनाउने बजरङ्गी मन्दिर क्षेत्रलाई सौन्दर्यकरण पुरानो गुद्री बजारमा अत्याधुनिक व्यापारिक भवन बनाउने योजना बढिसकेको जानकारी दिँदै उहाँले विराटनगर क्षेत्रमा फोहरको समस्या नदिन नागरिकलाई सुशासनको अनुभूति दिलाउने किसिमका काममा जोड बतानुभयाे धार्मिक महत्व बोकेको विराट राजाको दरवारलाई व्यवस्थित एवं धार्मिक पर्यटकीयस्थल निर्माण प्रदेश सङ्घीय सरकारको सहयोगबाट निर्माण योजना बढेको प्रमुख पराजुलीले राजवंशी चोकलाई सौन्दर्यकरण गरिने घोगाको बाटोलाई सेफजोन बनाइ विकासका योजना सारेको जानकारी दिनुभयो उहाँले लाखको योजना वडास्तरबाटै निर्माण गराउने अधिकार दिइसकेको निकट भविष्यमै जापानी जाइका नामक संस्थाले विराटनगरमा बृहत् खानेपानीको योजना बताउनुभयो उहाँले जनप्रनिधि भएपछि जनताकै खर्च गरिरहेको विराटनगरमा व्यवस्थित बधशाला निर्माण यसबाट उपभोक्तालाई स्वस्थ्यकर मासु खान सहज बताउनुभयो प्रमुख पराजुलीले विराटनगरको विकासका कमीकमजोरीलाई सञ्चारकर्मीले औँल्याइदिन आग्रह अत्यधिक नगरको विकासमै केन्द्रित प्रतिबद्धता व्यक्त गर्नुभयो\n",
            "True Class: Education\n",
            "Predicted Class: Education\n",
            "\n",
            "Text: नेपाल सरकारको स्वीकृति लिनु नेपाल सरकारको स्वीकृति नलिई व्यक्तिले राष्ट्रिय निकुभ्भित्र माटो ढुंगा वालुवा खनिज परदार्थ खोज्न खन्न हटाउन पाउने राष्ट्रिय निकु प्रभित्र अनुसन्धान सम्बन्धी चाहेमा नेपाल एक्रप्रति नेपाल सरकार समक्ष पेश पर्नेछ विज्ञापन टाँस्न राख्न नपाइने बमोजिम राष्ट्रिय निक म्रभित्र स्थापित होटल चिन्हपट सूचना विज्ञापन क्रिसिमका पोष्टरहरू टाँसी प्रचार प्रसार गराउनु बाजाहरू बजाउन नपाइने राष्ट्रिय निकु श्रभित्रका सरकारी कार्यालय भवन वमोजिम स्थापित होटल सेव्रा स्थलहरु त्राहेक रडियो टेप रकर्ड सङ्गीतका बाजाहरू बजाउन पाइनेछैन फोहर मैला फाल्न नपाइने व्यक्तिले राष्ट्रिय निकु म्रभित्र फोहर मैला फाल्न विषालु परदार्य प्थाँक्न नपाइने राष्ट्रिय निकुञ्जभित्र राष्ट्रिय निकुत्रभित्र पुग्ने लट्याउने विपालु पदार्थ फ्याँक्न राष्ट्रिय निकु श्भित्र बग्ने नदी खोला पानीको स्रोतमा हाल्न छ्न राष्ट्रिय निकश्भित्र पुग्ने तरिकाबाट कुराहरू राष्ट्रिय निक ज्रभित्र सारी साधन चलाउने व्यक्तिले देशायका कुराहरुको अधिनमा रहेर सवारी साधन चलाउनु पर्नेछ पाइने त्रयलगाडा चलाउन पाइने सवारी साधन पैदल यात्रु बस्तुको आवागमनमा वाधा सवारी साधन चलाउन अडयाई राख्नु\n",
            "True Class: Policy\n",
            "Predicted Class: Policy\n",
            "\n",
            "Text: प्रेस विज्ञप्ति सुर्खेत जिल्ला वीरेन्द्रनगर नगरपालिका नमूना माध्यमिक विद्यालयले सम्मानित उच्च अदालतको आदेशको अवज्ञा हुनेगरी एवम् विना रसिद विद्यार्थीहरूबाट रकम लिएको विषयमा सम्मानित अख्तियार दुरूपयोग अनुसन्धान आयोगको मिति प्रेस विज्ञप्तिबाट जानकारी वस्तुस्थिति मन्त्रालयको गम्भीर ध्यानाकर्षण नेपालको संविधान शिक्षा अनिवार्य निःशुल्क शिक्षा सम्बन्धी अनिवार्य निःशुल्क शिक्षा सम्वन्धी नियमावली प्रचलित कानूनले बन्देज शीर्षकहरूमा विद्यार्थीहरूबाट शुल्क नउठाउन सामुदायिक विद्यालयहरूलाई मन्त्रालय स्मरण गराउँदछ प्रचलित कानून बमोजिम विद्यालयले सहयोगदाता व्यक्ति संस्थाबाट प्राप्त सहयोग रकमको सम्वन्धमा सम्वन्धित स्थानीय तहको अनुमतिमा बिधि प्रकृया पुरा सहायता प्राप्ती परिचालन गराउने कार्य प्रकृय अवलम्बन गर्नुहुन विद्यालयहरूलाई सूचित गरिएको दीपक शार्मा सहसचिव एवं प्रवक्ता\n",
            "True Class: Press_Release\n",
            "Predicted Class: Press_Release\n",
            "\n",
            "Text: नेपाल सरकार गृह मन्त्रालय जिल्ला प्रशासन कार्यालय सिन्धुली नेपाली नागरिकताको प्रमाणपत्र नाप्रनं नाम सुनिता थापा लिङ्ग जन्म स्थान जिल्ला सिन्धुली गावि कमलामाई नगरपालिका वडा स्थायी बासस्थान जिल्ला कपिलवस्तु नपा तौलिहवा नगरपालिका वडा जन्म मिति साल महिना गते बाबुको नाम सुनील थापा नाप्रनं ठेगाना कपिलवस्तु नपा वंशज आमाको नाम किरण थापा नाप्रनं ठेगाना सिन्धुली नपा वंशज प॒तिपत्नीको नामथर नाप्रनं ठेगाना\n",
            "True Class: ID\n",
            "Predicted Class: ID\n",
            "\n",
            "Text: गोरखापत्र समाचारदाता काठमाडौँ असोज गते काठमाडौँ महानगरभित्रका स्वास्थ्य मापदण्ड पूरा विद्यालय असोज गतेबाट सञ्चालन सकिने महानगरपालिकाका प्रमुख एवं समितिका अध्यक्ष विद्यासुन्दर शाक्यको अध्यक्षतामा बसेको नगर शिक्षा समितिले बैठकले निर्णय बैठकले विद्यालय सञ्चालन न्यूूनतम रूपमा पालना गर्नुपर्ने बुँदे मापदण्डसहित निर्णय प्रमुख शाक्यले कोभिड महामारीको अवस्थामा बालबालिकाको भविष्य स्वास्थ्य चिन्ताको विषय विवेकपूर्ण निर्णय लिनु उचित बताउनुभयो\n",
            "True Class: Education\n",
            "Predicted Class: Education\n",
            "\n"
          ]
        }
      ]
    },
    {
      "cell_type": "markdown",
      "source": [
        "# Save and Load Model"
      ],
      "metadata": {
        "id": "cyZm6qyf1KuV"
      }
    },
    {
      "cell_type": "code",
      "source": [
        "torch.save(model.state_dict(), 'nepali_text_classification_model.pth')"
      ],
      "metadata": {
        "id": "kXrS-Kvoie7i"
      },
      "execution_count": 34,
      "outputs": []
    },
    {
      "cell_type": "code",
      "source": [
        "import json\n",
        "\n",
        "with open('tokenizer_vocab.json', 'w', encoding='utf-8') as vocab_file:\n",
        "    json.dump(custom_tokenizer.vocab, vocab_file, ensure_ascii=False, indent=4)"
      ],
      "metadata": {
        "id": "8JyCEHhjNhS9"
      },
      "execution_count": 35,
      "outputs": []
    },
    {
      "cell_type": "code",
      "source": [
        "model.load_state_dict(torch.load('/content/nepali_text_classification_model.pth', weights_only=True))"
      ],
      "metadata": {
        "id": "DeelwTblie-T",
        "colab": {
          "base_uri": "https://localhost:8080/"
        },
        "outputId": "5ce22a75-d223-44d5-c11b-78f21b906ff1"
      },
      "execution_count": 36,
      "outputs": [
        {
          "output_type": "execute_result",
          "data": {
            "text/plain": [
              "<All keys matched successfully>"
            ]
          },
          "metadata": {},
          "execution_count": 36
        }
      ]
    },
    {
      "cell_type": "code",
      "source": [
        "model.to(device)\n",
        "model.eval()\n",
        "class_names = label_encoder.classes_\n",
        "\n",
        "def predict(text, tokenizer, model, max_length, device):\n",
        "    model.eval()\n",
        "    with torch.no_grad():\n",
        "        encoded_input = tokenizer.encode(text, max_length)\n",
        "        input_ids = torch.tensor(encoded_input, dtype=torch.long).unsqueeze(0).to(device)\n",
        "        attention_mask = (input_ids != tokenizer.vocab['<PAD>']).long().to(device)\n",
        "\n",
        "        outputs = model(input_ids, attention_mask)\n",
        "        _, predicted_class = torch.max(outputs, 1)\n",
        "\n",
        "        return predicted_class.item()\n",
        "\n",
        "sample_text = \"बल्खु त्रिभुवन विश्वविद्यालय विज्ञान प्रविधि अध्ययन संस्थान डीनको कार्यालय परीक्षा शाखा वल्खुद्वारा सेमेष्टर परीक्षा प्रणाली साल चैत्र महिनामा संचालन वर्षे स्नातक कम्प्यूटर विज्ञान सुचना प्रविधि विषय वर्ष शत्र समूहको नियमित शकत्रको अगाडिका समूहको आंशिक परीक्षाको परीक्षाफल विज्ञान प्रविधि अध्ययन संस्थान परीक्षा संचालक समितिको निर्णयानुसार प्रकाशित गरिएको परीक्षामा निम्नाकित कमांक परीक्षार्थीहरु उत्तीर्ण वर्षे स्नातक कम्प्यूटर विज्ञान सूचना प्रविधि वर्ष शत्र\"\n",
        "predicted_label = predict(sample_text, custom_tokenizer, model, max_length, device)\n",
        "predicted_class_name = class_names[predicted_label]\n",
        "print(f\"Predicted class: {predicted_class_name}\")"
      ],
      "metadata": {
        "id": "CQLk7V4Z1UrC",
        "colab": {
          "base_uri": "https://localhost:8080/"
        },
        "outputId": "22151c7f-d012-4056-f98c-89d838036d64"
      },
      "execution_count": 37,
      "outputs": [
        {
          "output_type": "stream",
          "name": "stdout",
          "text": [
            "Predicted class: Education\n"
          ]
        }
      ]
    },
    {
      "cell_type": "code",
      "source": [],
      "metadata": {
        "id": "UpJY9FMGPPQ9"
      },
      "execution_count": null,
      "outputs": []
    }
  ]
}